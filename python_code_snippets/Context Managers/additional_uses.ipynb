{
 "cells": [
  {
   "attachments": {},
   "cell_type": "markdown",
   "metadata": {},
   "source": [
    "### Context Managers - Additional Uses"
   ]
  },
  {
   "cell_type": "code",
   "execution_count": 23,
   "metadata": {},
   "outputs": [],
   "source": [
    "import decimal"
   ]
  },
  {
   "cell_type": "code",
   "execution_count": 24,
   "metadata": {},
   "outputs": [
    {
     "data": {
      "text/plain": [
       "Context(prec=14, rounding=ROUND_HALF_EVEN, Emin=-999999, Emax=999999, capitals=1, clamp=0, flags=[Inexact, Rounded], traps=[InvalidOperation, DivisionByZero, Overflow])"
      ]
     },
     "execution_count": 24,
     "metadata": {},
     "output_type": "execute_result"
    }
   ],
   "source": [
    "decimal.getcontext().prec = 14\n",
    "decimal.getcontext()"
   ]
  },
  {
   "cell_type": "code",
   "execution_count": 25,
   "metadata": {},
   "outputs": [
    {
     "data": {
      "text/plain": [
       "Context(prec=28, rounding=ROUND_HALF_EVEN, Emin=-999999, Emax=999999, capitals=1, clamp=0, flags=[Inexact, Rounded], traps=[InvalidOperation, DivisionByZero, Overflow])"
      ]
     },
     "execution_count": 25,
     "metadata": {},
     "output_type": "execute_result"
    }
   ],
   "source": [
    "decimal.getcontext().prec = 28\n",
    "decimal.getcontext()"
   ]
  },
  {
   "attachments": {},
   "cell_type": "markdown",
   "metadata": {},
   "source": [
    "#### Temporarily change the precision of the decimals"
   ]
  },
  {
   "cell_type": "code",
   "execution_count": 26,
   "metadata": {},
   "outputs": [
    {
     "name": "stdout",
     "output_type": "stream",
     "text": [
      "0.3333\n",
      "0.3333333333333333333333333333\n"
     ]
    }
   ],
   "source": [
    "old_prec = decimal.getcontext().prec\n",
    "\n",
    "decimal.getcontext().prec = 4\n",
    "\n",
    "print(decimal.Decimal(1) / decimal.Decimal(3))\n",
    "\n",
    "decimal.getcontext().prec = old_prec\n",
    "\n",
    "print(decimal.Decimal(1) / decimal.Decimal(3))\n"
   ]
  },
  {
   "attachments": {},
   "cell_type": "markdown",
   "metadata": {},
   "source": [
    "#### Implementing own context manager for changing the precision of decimals"
   ]
  },
  {
   "attachments": {},
   "cell_type": "markdown",
   "metadata": {},
   "source": [
    "```\n",
    "Change Decimal Precisions\n",
    "```"
   ]
  },
  {
   "cell_type": "code",
   "execution_count": 27,
   "metadata": {},
   "outputs": [],
   "source": [
    "class Precision:\n",
    "    def __init__(self, prec):\n",
    "        self.prec = prec\n",
    "        self.curr_prec = decimal.getcontext().prec\n",
    "    \n",
    "    def __enter__(self):\n",
    "        # Set to the value of the instance attribute\n",
    "        decimal.getcontext().prec = self.prec\n",
    "        \n",
    "    def __exit__(self, exc_type, exc_value, exc_trace):\n",
    "        decimal.getcontext().prec = self.curr_prec\n",
    "        return False\n"
   ]
  },
  {
   "cell_type": "code",
   "execution_count": 28,
   "metadata": {},
   "outputs": [
    {
     "name": "stdout",
     "output_type": "stream",
     "text": [
      "0.333\n",
      "0.3333333333333333333333333333\n"
     ]
    }
   ],
   "source": [
    "# Within the context manager\n",
    "with Precision(3):\n",
    "    print(decimal.Decimal(1) / decimal.Decimal(3))\n",
    "\n",
    "# Outside the context manager\n",
    "print(decimal.Decimal(1) / decimal.Decimal(3))"
   ]
  },
  {
   "attachments": {},
   "cell_type": "markdown",
   "metadata": {},
   "source": [
    "#### The built-in context manager of the decimal class\n",
    "\n",
    "```\n",
    "Change and Reset Pattern\n",
    "```"
   ]
  },
  {
   "cell_type": "code",
   "execution_count": 29,
   "metadata": {},
   "outputs": [
    {
     "name": "stdout",
     "output_type": "stream",
     "text": [
      "0.333\n",
      "0.3333333333333333333333333333\n"
     ]
    }
   ],
   "source": [
    "# Within the context manager\n",
    "with decimal.localcontext() as ctx:\n",
    "    ctx.prec = 3\n",
    "    print(decimal.Decimal(1) / decimal.Decimal(3))\n",
    "\n",
    "# Outside the context manager\n",
    "print(decimal.Decimal(1) / decimal.Decimal(3))"
   ]
  },
  {
   "cell_type": "code",
   "execution_count": 30,
   "metadata": {},
   "outputs": [],
   "source": [
    "from time import perf_counter, sleep"
   ]
  },
  {
   "attachments": {},
   "cell_type": "markdown",
   "metadata": {},
   "source": [
    "#### Timer Context Manager\n",
    "\n",
    "```\n",
    "Start and Stop Pattern\n",
    "```"
   ]
  },
  {
   "cell_type": "code",
   "execution_count": 31,
   "metadata": {},
   "outputs": [],
   "source": [
    "class Timer:\n",
    "    def __init__(self):\n",
    "        self.elapsed = 0\n",
    "        \n",
    "    def __enter__(self):\n",
    "        self.start = perf_counter()\n",
    "        return self\n",
    "    \n",
    "    def __exit__(self, exc_type, exc_value, exc):\n",
    "        self.stop = perf_counter()\n",
    "        self.elapsed = self.stop - self.start\n",
    "        return False\n",
    "    "
   ]
  },
  {
   "cell_type": "code",
   "execution_count": 35,
   "metadata": {},
   "outputs": [
    {
     "name": "stdout",
     "output_type": "stream",
     "text": [
      "1.000456100000065\n"
     ]
    }
   ],
   "source": [
    "# Using aliases with custom context managers\n",
    "with Timer() as timer:\n",
    "    sleep(1)\n",
    "    \n",
    "print(timer.elapsed)"
   ]
  },
  {
   "attachments": {},
   "cell_type": "markdown",
   "metadata": {},
   "source": [
    "#### Redirecting Standard Out\n",
    "\n",
    "```\n",
    "Open and Close Pattern\n",
    "```"
   ]
  },
  {
   "cell_type": "code",
   "execution_count": 38,
   "metadata": {},
   "outputs": [],
   "source": [
    "import sys\n",
    "\n",
    "class OutToFile:\n",
    "    def __init__(self, file_name):\n",
    "        self._fname = file_name\n",
    "        self._curr_stdout = sys.stdout\n",
    "        \n",
    "    def __enter__(self):\n",
    "        self._file = open(self._fname, 'w')\n",
    "        sys.stdout = self._file\n",
    "    \n",
    "    def __exit__(self, exc_type, exc_value, exc_tb):\n",
    "        sys.stdout = self._curr_stdout\n",
    "        self._file.close()\n",
    "        return False\n",
    "        "
   ]
  },
  {
   "cell_type": "code",
   "execution_count": 39,
   "metadata": {},
   "outputs": [],
   "source": [
    "with OutToFile('test.txt'):\n",
    "    print('Line 1')\n",
    "    print('Line 2')\n"
   ]
  },
  {
   "cell_type": "code",
   "execution_count": 40,
   "metadata": {},
   "outputs": [
    {
     "data": {
      "text/plain": [
       "<ipykernel.iostream.OutStream at 0x252423367a0>"
      ]
     },
     "execution_count": 40,
     "metadata": {},
     "output_type": "execute_result"
    }
   ],
   "source": [
    "sys.stdout"
   ]
  },
  {
   "cell_type": "code",
   "execution_count": 41,
   "metadata": {},
   "outputs": [
    {
     "data": {
      "text/plain": [
       "<_io.TextIOWrapper name='<stdin>' mode='r' encoding='utf-8'>"
      ]
     },
     "execution_count": 41,
     "metadata": {},
     "output_type": "execute_result"
    }
   ],
   "source": [
    "sys.stdin"
   ]
  },
  {
   "cell_type": "code",
   "execution_count": 42,
   "metadata": {},
   "outputs": [
    {
     "name": "stdout",
     "output_type": "stream",
     "text": [
      "['Line 1\\n', 'Line 2\\n']\n"
     ]
    }
   ],
   "source": [
    "with open('test.txt') as f:\n",
    "    print(f.readlines())"
   ]
  },
  {
   "attachments": {},
   "cell_type": "markdown",
   "metadata": {},
   "source": [
    "#### Creating open and close tags for printing\n",
    "\n",
    "```\n",
    "Open and Close Pattern\n",
    "```"
   ]
  },
  {
   "cell_type": "code",
   "execution_count": 64,
   "metadata": {},
   "outputs": [],
   "source": [
    "my_message = \"\"\"Beautiful is better than ugly.\n",
    "Explicit is better than implicit.\n",
    "Simple is better than complex.\n",
    "Complex is better than complicated.\n",
    "Flat is better than nested.\n",
    "Sparse is better than dense.\n",
    "Readability counts.\n",
    "Special cases aren't special enough to break the rules.\n",
    "Although practicality beats purity.\n",
    "Errors should never pass silently.\n",
    "Unless explicitly silenced.\n",
    "In the face of ambiguity, refuse the temptation to guess.\n",
    "There should be one-- and preferably only one --obvious way to do it.\n",
    "Although that way may not be obvious at first unless you're Dutch.\n",
    "Now is better than never.\n",
    "Although never is often better than *right* now.\n",
    "If the implementation is hard to explain, it's a bad idea.\n",
    "If the implementation is easy to explain, it may be a good idea.\n",
    "Namespaces are one honking great idea -- let's do more of those!\"\"\""
   ]
  },
  {
   "cell_type": "code",
   "execution_count": 65,
   "metadata": {},
   "outputs": [],
   "source": [
    "class Tag:\n",
    "    def __init__(self, tag):\n",
    "        self._tag = tag\n",
    "    \n",
    "    def __enter__(self):\n",
    "        print(f'<{self._tag}>', end='')\n",
    "    \n",
    "    def __exit__(self, exc_type, exc_value, exc_tb):\n",
    "        print(f'</{self._tag}>', end='')\n",
    "        return False"
   ]
  },
  {
   "cell_type": "code",
   "execution_count": 66,
   "metadata": {},
   "outputs": [
    {
     "name": "stdout",
     "output_type": "stream",
     "text": [
      "<p>Mastering <b>Python</b> Skills</p>"
     ]
    }
   ],
   "source": [
    "with Tag('p'):\n",
    "    print('Mastering ', end='')\n",
    "    with Tag('b'):\n",
    "        print('Python', end='')\n",
    "    print(' Skills', end='')\n",
    "    "
   ]
  },
  {
   "cell_type": "code",
   "execution_count": 92,
   "metadata": {},
   "outputs": [
    {
     "name": "stdout",
     "output_type": "stream",
     "text": [
      "\n",
      "<p>Beautiful is better than ugly.</p>\n",
      "<p>Explicit is better than implicit.</p>\n",
      "<p>Simple is better than complex.</p>\n",
      "<p>Complex is better than complicated.</p>\n",
      "<p>Flat is better than nested.</p>\n",
      "<p>Sparse is better than dense.</p>\n",
      "<p>Readability counts.</p>\n",
      "<p>Special cases aren't special enough to break the rules.</p>\n",
      "<p>Although practicality beats purity.</p>\n",
      "<p>Errors should never pass silently.</p>\n",
      "<p>Unless explicitly silenced.</p>\n",
      "<p>In the face of ambiguity, refuse the temptation to guess.</p>\n",
      "<p>There should be one-- and preferably only one --obvious way to do it.</p>\n",
      "<p>Although that way may not be obvious at first unless you're Dutch.</p>\n",
      "<p>Now is better than never.</p>\n",
      "<p>Although never is often better than *right* now.</p>\n",
      "<p>If the implementation is hard to explain, it's a bad idea.</p>\n",
      "<p>If the implementation is easy to explain, it may be a good idea.</p>\n",
      "<p>Namespaces are one honking great idea -- let's do more of those!</p>"
     ]
    }
   ],
   "source": [
    "lines = my_message.split('\\n')\n",
    "\n",
    "for line in lines:\n",
    "    print()\n",
    "    with Tag('p'):\n",
    "        print(line, end='')\n"
   ]
  },
  {
   "attachments": {},
   "cell_type": "markdown",
   "metadata": {},
   "source": [
    "#### Creating a list maker class\n",
    "\n",
    "```\n",
    "Open and Close Pattern\n",
    "```"
   ]
  },
  {
   "attachments": {},
   "cell_type": "markdown",
   "metadata": {},
   "source": [
    "#### Output:"
   ]
  },
  {
   "attachments": {},
   "cell_type": "markdown",
   "metadata": {},
   "source": [
    "```\n",
    "Title\n",
    "- Items 1\n",
    "    - sub item 1a\n",
    "    - sub item 1b\n",
    "- Items 2\n",
    "    - sub item 2a\n",
    "    - sub item 2b\n",
    "```"
   ]
  },
  {
   "cell_type": "code",
   "execution_count": 93,
   "metadata": {},
   "outputs": [],
   "source": [
    "class ListMaker:\n",
    "    def __init__(self, title, prefix='- ', indent=4):\n",
    "        self._title = title\n",
    "        self._prefix = prefix\n",
    "        self._indent = indent\n",
    "        self._current_indent = 0\n",
    "        print(title)\n",
    "    \n",
    "    def __enter__(self):\n",
    "        self._current_indent += self._indent\n",
    "        return self\n",
    "        \n",
    "    def __exit__(self, exc_type, exc_value, exc_tb):\n",
    "        self._current_indent -= self._indent\n",
    "        return False\n",
    "    \n",
    "    def print_item(self, arg):\n",
    "        s = ' ' * self._current_indent + self._prefix + str(arg)\n",
    "        \n",
    "        print(s)\n",
    "    "
   ]
  },
  {
   "cell_type": "code",
   "execution_count": 94,
   "metadata": {},
   "outputs": [
    {
     "name": "stdout",
     "output_type": "stream",
     "text": [
      "Items\n",
      "    - Item 1\n",
      "    - Item 2\n",
      "    - Item 3\n"
     ]
    }
   ],
   "source": [
    "with ListMaker('Items') as lm:\n",
    "    lm.print_item('Item 1')\n",
    "    lm.print_item('Item 2')\n",
    "    lm.print_item('Item 3')"
   ]
  },
  {
   "cell_type": "code",
   "execution_count": 95,
   "metadata": {},
   "outputs": [
    {
     "name": "stdout",
     "output_type": "stream",
     "text": [
      "Items\n",
      "    - Item 1\n",
      "        - Subitem 1a\n",
      "        - Subitem 1b\n",
      "    - Item 2\n",
      "        - Subitem 2a\n",
      "            - x\n",
      "            - y\n",
      "        - Subitem 2b\n",
      "    - Item 3\n",
      "        - Subitem 3a\n",
      "        - Subitem 3b\n",
      "            - x\n",
      "            - y\n",
      "            - z\n",
      "        - Subitem 3c\n"
     ]
    }
   ],
   "source": [
    "with ListMaker('Items') as lm:\n",
    "    lm.print_item('Item 1')\n",
    "    with lm:\n",
    "        lm.print_item('Subitem 1a')\n",
    "        lm.print_item('Subitem 1b')\n",
    "    lm.print_item('Item 2')\n",
    "    with lm:\n",
    "        lm.print_item('Subitem 2a')\n",
    "        with lm:\n",
    "            lm.print_item('x')\n",
    "            lm.print_item('y')\n",
    "        lm.print_item('Subitem 2b')\n",
    "    lm.print_item('Item 3')\n",
    "    with lm:\n",
    "        lm.print_item('Subitem 3a')\n",
    "        lm.print_item('Subitem 3b')\n",
    "        with lm:\n",
    "            lm.print_item('x')\n",
    "            lm.print_item('y')\n",
    "            lm.print_item('z')\n",
    "        lm.print_item('Subitem 3c')"
   ]
  },
  {
   "attachments": {},
   "cell_type": "markdown",
   "metadata": {},
   "source": [
    "#### Creating own list maker in a .txt file"
   ]
  },
  {
   "cell_type": "code",
   "execution_count": 96,
   "metadata": {},
   "outputs": [],
   "source": [
    "with OutToFile('learn_map.txt'):\n",
    "    with ListMaker('Technologies to learn') as lm:\n",
    "        # Python\n",
    "        lm.print_item('Python')\n",
    "        \n",
    "        with lm:\n",
    "            lm.print_item('Python Fundamentals and Advance')\n",
    "            with lm:\n",
    "                lm.print_item('Idiomatic Python')\n",
    "                lm.print_item('Iteration and Generators')\n",
    "                lm.print_item('Serialization and Hashing')\n",
    "                lm.print_item('Functional Programming')\n",
    "                lm.print_item('Object-Oriented Programming')\n",
    "        with lm:\n",
    "            lm.print_item('Testing')\n",
    "            with lm:\n",
    "                lm.print_item('Unit Tests Fundamentals')\n",
    "                lm.print_item('PyTest Framework')\n",
    "        with lm:\n",
    "            lm.print_item('Back-end Framework and RESTful API')\n",
    "            with lm:\n",
    "                lm.print_item('Flask')\n",
    "                lm.print_item('Fast API')\n",
    "                lm.print_item('Django')\n",
    "        with lm:\n",
    "            lm.print_item('Data Science')\n",
    "            with lm:\n",
    "                lm.print_item('NumPy')\n",
    "                lm.print_item('Pandas or Polars')\n",
    "                lm.print_item('Plotly')\n",
    "                lm.print_item('Matplotlib')\n",
    "                lm.print_item('Streamlit')\n",
    "        with lm:\n",
    "            lm.print_item('Machine Learning')\n",
    "            with lm:\n",
    "                lm.print_item('Sci-kit Learn')\n",
    "                lm.print_item('TensorFlow or PyTorch')\n",
    "                \n",
    "        # Javascript\n",
    "        lm.print_item('Javascript')\n",
    "        with lm:\n",
    "            lm.print_item('Javascript Fundamentals and Advance')\n",
    "            with lm:\n",
    "                lm.print_item('Closures, Scopes, and Functions')\n",
    "                lm.print_item('Objects')\n",
    "                lm.print_item('Higher Order Functions')\n",
    "                lm.print_item('Data Structures')\n",
    "                lm.print_item('Object-Oriented Programming')\n",
    "                lm.print_item('Asynchronous Javascript')\n",
    "            lm.print_item('Front-End Framework')\n",
    "            with lm:\n",
    "                lm.print_item('Typescript')\n",
    "                lm.print_item('React JS')\n",
    "                lm.print_item('React Native')\n",
    "                lm.print_item('React Redux')\n",
    "                lm.print_item('Vue')\n",
    "                lm.print_item('Svelte')\n",
    "            lm.print_item('Back-End Framework')\n",
    "            with lm:\n",
    "                lm.print_item('Node JS')\n",
    "                lm.print_item('Express JS')\n",
    "\n",
    "        # Databases \n",
    "        lm.print_item('Databases')\n",
    "        with lm:\n",
    "            lm.print_item('Relational Databases')\n",
    "            with lm:\n",
    "                lm.print_item('SQLite')\n",
    "                lm.print_item('MySQL')\n",
    "                lm.print_item('PostgreSQL')\n",
    "            lm.print_item('Document and Object Databases')\n",
    "            with lm:\n",
    "                lm.print_item('GraphQL')\n",
    "                lm.print_item('MongoDB')\n",
    "                \n",
    "        # Rust\n",
    "        lm.print_item('Rust')\n",
    "        with lm:\n",
    "            lm.print_item('Rust Fundamentals')\n",
    "            with lm:\n",
    "                lm.print_item('Ownership and Lifetimes')\n",
    "                lm.print_item('Structs and Enums')\n",
    "                lm.print_item('Trait Implementations')\n",
    "            lm.print_item('Web Assembly Frameworks')\n",
    "            with lm:\n",
    "                lm.print_item('Yew')\n",
    "                lm.print_item('Tauri')\n",
    "                lm.print_item('Rocket')\n",
    "                \n",
    "        # Deployment\n",
    "        lm.print_item('Cloud and Deployment')\n",
    "        with lm:\n",
    "            lm.print_item('Github, Gitlab')\n",
    "            with lm:\n",
    "                lm.print_item('Git')\n",
    "            lm.print_item('Docker')\n",
    "            lm.print_item('Amazon Web Service')"
   ]
  }
 ],
 "metadata": {
  "kernelspec": {
   "display_name": "Python 3",
   "language": "python",
   "name": "python3"
  },
  "language_info": {
   "codemirror_mode": {
    "name": "ipython",
    "version": 3
   },
   "file_extension": ".py",
   "mimetype": "text/x-python",
   "name": "python",
   "nbconvert_exporter": "python",
   "pygments_lexer": "ipython3",
   "version": "3.11.1"
  },
  "orig_nbformat": 4
 },
 "nbformat": 4,
 "nbformat_minor": 2
}
