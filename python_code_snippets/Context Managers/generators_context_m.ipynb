{
 "cells": [
  {
   "attachments": {},
   "cell_type": "markdown",
   "metadata": {},
   "source": [
    "### Context Managers and Generators"
   ]
  },
  {
   "cell_type": "code",
   "execution_count": 1,
   "metadata": {},
   "outputs": [],
   "source": [
    "def my_gen():\n",
    "    try:\n",
    "        print('creating context and yielding object')\n",
    "        yield [1, 2, 3, 4]\n",
    "    finally:\n",
    "        print('exiting context and cleaning up')"
   ]
  },
  {
   "cell_type": "code",
   "execution_count": 2,
   "metadata": {},
   "outputs": [],
   "source": [
    "gen = my_gen()"
   ]
  },
  {
   "cell_type": "code",
   "execution_count": 3,
   "metadata": {},
   "outputs": [
    {
     "name": "stdout",
     "output_type": "stream",
     "text": [
      "creating context and yielding object\n"
     ]
    }
   ],
   "source": [
    "lst = next(gen)"
   ]
  },
  {
   "cell_type": "code",
   "execution_count": 4,
   "metadata": {},
   "outputs": [
    {
     "data": {
      "text/plain": [
       "[1, 2, 3, 4]"
      ]
     },
     "execution_count": 4,
     "metadata": {},
     "output_type": "execute_result"
    }
   ],
   "source": [
    "lst"
   ]
  },
  {
   "cell_type": "code",
   "execution_count": 5,
   "metadata": {},
   "outputs": [
    {
     "name": "stdout",
     "output_type": "stream",
     "text": [
      "exiting context and cleaning up\n"
     ]
    },
    {
     "ename": "StopIteration",
     "evalue": "",
     "output_type": "error",
     "traceback": [
      "\u001b[1;31m---------------------------------------------------------------------------\u001b[0m",
      "\u001b[1;31mStopIteration\u001b[0m                             Traceback (most recent call last)",
      "Cell \u001b[1;32mIn[5], line 1\u001b[0m\n\u001b[1;32m----> 1\u001b[0m \u001b[39mnext\u001b[39;49m(gen)\n",
      "\u001b[1;31mStopIteration\u001b[0m: "
     ]
    }
   ],
   "source": [
    "next(gen)"
   ]
  },
  {
   "cell_type": "code",
   "execution_count": 6,
   "metadata": {},
   "outputs": [
    {
     "name": "stdout",
     "output_type": "stream",
     "text": [
      "creating context and yielding object\n",
      "[1, 2, 3, 4]\n",
      "exiting context and cleaning up\n"
     ]
    }
   ],
   "source": [
    "gen = my_gen()\n",
    "\n",
    "# Get the content by calling next to the generator\n",
    "lst = next(gen)\n",
    "\n",
    "print(lst)\n",
    "try:\n",
    "    next(gen)\n",
    "except StopIteration:\n",
    "    pass\n"
   ]
  },
  {
   "attachments": {},
   "cell_type": "markdown",
   "metadata": {},
   "source": [
    "#### Generator Context Manager "
   ]
  },
  {
   "cell_type": "code",
   "execution_count": 8,
   "metadata": {},
   "outputs": [],
   "source": [
    "class GeneratorCM:\n",
    "    def __init__(self, gen_func):\n",
    "        # call the generator function and pass the return value\n",
    "        self._gen = gen_func()\n",
    "        \n",
    "    def __enter__(self):\n",
    "        return next(self._gen)\n",
    "    \n",
    "    def __exit__(self, exc_type, exc_value, exc_tb):\n",
    "        try:\n",
    "            next(self._gen)\n",
    "        except StopIteration:\n",
    "            pass\n",
    "        return False\n",
    "        "
   ]
  },
  {
   "cell_type": "code",
   "execution_count": 9,
   "metadata": {},
   "outputs": [
    {
     "name": "stdout",
     "output_type": "stream",
     "text": [
      "creating context and yielding object\n",
      "[1, 2, 3, 4]\n",
      "exiting context and cleaning up\n"
     ]
    }
   ],
   "source": [
    "with GeneratorCM(my_gen) as obj:\n",
    "    print(obj)"
   ]
  },
  {
   "cell_type": "code",
   "execution_count": 10,
   "metadata": {},
   "outputs": [],
   "source": [
    "class GeneratorCM:\n",
    "    def __init__(self, gen_func, *args, **kwargs):\n",
    "        # call the generator function and pass the return value\n",
    "        self._gen = gen_func(*args, **kwargs)\n",
    "        \n",
    "    def __enter__(self):\n",
    "        return next(self._gen)\n",
    "    \n",
    "    def __exit__(self, exc_type, exc_value, exc_tb):\n",
    "        try:\n",
    "            next(self._gen)\n",
    "        except StopIteration:\n",
    "            pass\n",
    "        return False\n",
    "    "
   ]
  },
  {
   "cell_type": "code",
   "execution_count": 13,
   "metadata": {},
   "outputs": [],
   "source": [
    "def open_file(file_name, mode):\n",
    "    f = open(file_name, mode)\n",
    "    try:\n",
    "        print('opening file...')\n",
    "        yield f\n",
    "    finally:\n",
    "        print('closing file...')\n",
    "        f.close()\n",
    "        "
   ]
  },
  {
   "cell_type": "code",
   "execution_count": 14,
   "metadata": {},
   "outputs": [
    {
     "name": "stdout",
     "output_type": "stream",
     "text": [
      "opening file...\n",
      "closing file...\n"
     ]
    }
   ],
   "source": [
    "with GeneratorCM(open_file, 'text.txt', 'w') as f:\n",
    "    f.writelines('Testing\\nPython...')"
   ]
  },
  {
   "cell_type": "code",
   "execution_count": 15,
   "metadata": {},
   "outputs": [
    {
     "name": "stdout",
     "output_type": "stream",
     "text": [
      "opening file...\n",
      "['Testing\\n', 'Python...']\n",
      "closing file...\n"
     ]
    }
   ],
   "source": [
    "with GeneratorCM(open_file, 'text.txt', 'r') as f:\n",
    "    print(f.readlines())"
   ]
  },
  {
   "cell_type": "code",
   "execution_count": null,
   "metadata": {},
   "outputs": [],
   "source": []
  }
 ],
 "metadata": {
  "kernelspec": {
   "display_name": "Python 3",
   "language": "python",
   "name": "python3"
  },
  "language_info": {
   "codemirror_mode": {
    "name": "ipython",
    "version": 3
   },
   "file_extension": ".py",
   "mimetype": "text/x-python",
   "name": "python",
   "nbconvert_exporter": "python",
   "pygments_lexer": "ipython3",
   "version": "3.11.1"
  },
  "orig_nbformat": 4
 },
 "nbformat": 4,
 "nbformat_minor": 2
}
