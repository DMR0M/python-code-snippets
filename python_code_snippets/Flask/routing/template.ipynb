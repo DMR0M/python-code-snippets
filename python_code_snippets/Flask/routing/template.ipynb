{
 "cells": [
  {
   "attachments": {},
   "cell_type": "markdown",
   "metadata": {},
   "source": [
    "### Flask Guide"
   ]
  },
  {
   "attachments": {},
   "cell_type": "markdown",
   "metadata": {},
   "source": [
    "### Basic Flask Setup"
   ]
  },
  {
   "cell_type": "code",
   "execution_count": 13,
   "metadata": {},
   "outputs": [],
   "source": [
    "from flask import Flask"
   ]
  },
  {
   "cell_type": "code",
   "execution_count": 14,
   "metadata": {},
   "outputs": [],
   "source": [
    "app = Flask(__name__)\n",
    "# @app.route('/<name>')  # add a parameter as an endpoint to url\n",
    "\n",
    "\n",
    "# Main Page route\n",
    "@app.route('/')\n",
    "def main():\n",
    "    return '<h1>Boring \"Hello World!\"</h1>'\n",
    "\n",
    "\n",
    "# if __name__ == '__main__':\n",
    "#     app.run()"
   ]
  },
  {
   "attachments": {},
   "cell_type": "markdown",
   "metadata": {},
   "source": [
    "### Routing with Flask"
   ]
  },
  {
   "cell_type": "code",
   "execution_count": 15,
   "metadata": {},
   "outputs": [],
   "source": [
    "\n",
    "# Home Page route\n",
    "@app.route('/home')\n",
    "def home():\n",
    "    return '<h1>You are on the Home Page!</h1>'\n",
    "\n",
    "\n",
    "# Extra Page route\n",
    "@app.route('/extra')\n",
    "def extra():\n",
    "    return '<h1>You are on the Extra Page!</h1>'\n"
   ]
  },
  {
   "attachments": {},
   "cell_type": "markdown",
   "metadata": {},
   "source": [
    "### Posting JSON"
   ]
  },
  {
   "cell_type": "code",
   "execution_count": 16,
   "metadata": {},
   "outputs": [],
   "source": [
    "import csv\n",
    "import json\n",
    "\n",
    "\n",
    "@app.route('/json')\n",
    "def data() -> json:\n",
    "    json_array: list[dict] = []\n",
    "    \n",
    "    with open('pkmn_dataset_gen1.csv', 'r') as f:\n",
    "        csv_reader = csv.DictReader(f)\n",
    "        for row in csv_reader:\n",
    "            json_array.append(row)\n",
    "\n",
    "    with open('pkmn_gen1.json', 'w') as json_f:\n",
    "        json_str = json_f.dumps(json_array, indent=4)\n",
    "        json_f.write(json_str)\n",
    "        \n",
    "    return json_str"
   ]
  },
  {
   "attachments": {},
   "cell_type": "markdown",
   "metadata": {},
   "source": [
    "### Routing Variables"
   ]
  },
  {
   "cell_type": "code",
   "execution_count": 17,
   "metadata": {},
   "outputs": [],
   "source": [
    "# h1 tag depends on the username endpoint\n",
    "@app.route('/user/<user_name>')\n",
    "def user() -> str:\n",
    "    return '<h1>Hello {user_name}!</h1>'.format(user_name)\n"
   ]
  },
  {
   "attachments": {},
   "cell_type": "markdown",
   "metadata": {},
   "source": [
    "### Add Default Values"
   ]
  },
  {
   "cell_type": "code",
   "execution_count": null,
   "metadata": {},
   "outputs": [],
   "source": [
    "# adding default route values to route variables\n",
    "@app.route('/user', defaults={'user_name': 'unknown'})\n",
    "\n",
    "@app.route('/user/<user_name>')\n",
    "def user() -> str:\n",
    "    return '<h1>Hello {user_name}!</h1>'.format(user_name)"
   ]
  }
 ],
 "metadata": {
  "kernelspec": {
   "display_name": "Python 3",
   "language": "python",
   "name": "python3"
  },
  "language_info": {
   "codemirror_mode": {
    "name": "ipython",
    "version": 3
   },
   "file_extension": ".py",
   "mimetype": "text/x-python",
   "name": "python",
   "nbconvert_exporter": "python",
   "pygments_lexer": "ipython3",
   "version": "3.11.2"
  },
  "orig_nbformat": 4
 },
 "nbformat": 4,
 "nbformat_minor": 2
}
