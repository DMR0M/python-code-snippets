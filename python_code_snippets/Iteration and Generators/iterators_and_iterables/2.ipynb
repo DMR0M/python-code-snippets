{
 "cells": [
  {
   "attachments": {},
   "cell_type": "markdown",
   "metadata": {},
   "source": [
    "### Iterators and The Iterator Protocol\n",
    "### \\_\\_iter\\_\\_\n",
    "### \\_\\_next\\_\\_"
   ]
  },
  {
   "cell_type": "code",
   "execution_count": 18,
   "metadata": {},
   "outputs": [],
   "source": [
    "class Squares:\n",
    "    def __init__(self, length) -> None:\n",
    "        self.length = length\n",
    "        self.i = 0\n",
    "        \n",
    "    def __len__(self) -> int:\n",
    "        return self.length\n",
    "        \n",
    "    def __next__(self) -> int:\n",
    "        if self.i >= self.length:\n",
    "            raise StopIteration\n",
    "        else:\n",
    "            result = self.i ** 2 \n",
    "            self.i += 1\n",
    "            return result"
   ]
  },
  {
   "cell_type": "code",
   "execution_count": 19,
   "metadata": {},
   "outputs": [],
   "source": [
    "sq = Squares(3)"
   ]
  },
  {
   "cell_type": "code",
   "execution_count": 20,
   "metadata": {},
   "outputs": [
    {
     "data": {
      "text/plain": [
       "0"
      ]
     },
     "execution_count": 20,
     "metadata": {},
     "output_type": "execute_result"
    }
   ],
   "source": [
    "next(sq)"
   ]
  },
  {
   "cell_type": "code",
   "execution_count": 21,
   "metadata": {},
   "outputs": [
    {
     "data": {
      "text/plain": [
       "1"
      ]
     },
     "execution_count": 21,
     "metadata": {},
     "output_type": "execute_result"
    }
   ],
   "source": [
    "next(sq)"
   ]
  },
  {
   "cell_type": "code",
   "execution_count": 22,
   "metadata": {},
   "outputs": [
    {
     "data": {
      "text/plain": [
       "4"
      ]
     },
     "execution_count": 22,
     "metadata": {},
     "output_type": "execute_result"
    }
   ],
   "source": [
    "next(sq)"
   ]
  },
  {
   "cell_type": "code",
   "execution_count": 23,
   "metadata": {},
   "outputs": [
    {
     "ename": "StopIteration",
     "evalue": "",
     "output_type": "error",
     "traceback": [
      "\u001b[1;31m---------------------------------------------------------------------------\u001b[0m",
      "\u001b[1;31mStopIteration\u001b[0m                             Traceback (most recent call last)",
      "Cell \u001b[1;32mIn[23], line 1\u001b[0m\n\u001b[1;32m----> 1\u001b[0m \u001b[39mnext\u001b[39;49m(sq)\n",
      "Cell \u001b[1;32mIn[18], line 11\u001b[0m, in \u001b[0;36mSquares.__next__\u001b[1;34m(self)\u001b[0m\n\u001b[0;32m      9\u001b[0m \u001b[39mdef\u001b[39;00m \u001b[39m__next__\u001b[39m(\u001b[39mself\u001b[39m) \u001b[39m-\u001b[39m\u001b[39m>\u001b[39m \u001b[39mint\u001b[39m:\n\u001b[0;32m     10\u001b[0m     \u001b[39mif\u001b[39;00m \u001b[39mself\u001b[39m\u001b[39m.\u001b[39mi \u001b[39m>\u001b[39m\u001b[39m=\u001b[39m \u001b[39mself\u001b[39m\u001b[39m.\u001b[39mlength:\n\u001b[1;32m---> 11\u001b[0m         \u001b[39mraise\u001b[39;00m \u001b[39mStopIteration\u001b[39;00m\n\u001b[0;32m     12\u001b[0m     \u001b[39melse\u001b[39;00m:\n\u001b[0;32m     13\u001b[0m         result \u001b[39m=\u001b[39m \u001b[39mself\u001b[39m\u001b[39m.\u001b[39mi \u001b[39m*\u001b[39m\u001b[39m*\u001b[39m \u001b[39m2\u001b[39m \n",
      "\u001b[1;31mStopIteration\u001b[0m: "
     ]
    }
   ],
   "source": [
    "next(sq)"
   ]
  },
  {
   "attachments": {},
   "cell_type": "markdown",
   "metadata": {},
   "source": [
    "### Using the \\_\\_iter\\_\\_ method, to make the instance of a class an iterable"
   ]
  },
  {
   "cell_type": "code",
   "execution_count": 24,
   "metadata": {},
   "outputs": [],
   "source": [
    "class Squares:\n",
    "    def __init__(self, length) -> None:\n",
    "        self.length = length\n",
    "        self.i = 0\n",
    "        \n",
    "    def __len__(self) -> int:\n",
    "        return self.length\n",
    "        \n",
    "    def __next__(self) -> int:\n",
    "        if self.i >= self.length:\n",
    "            raise StopIteration\n",
    "        else:\n",
    "            result = self.i ** 2 \n",
    "            self.i += 1\n",
    "            return result\n",
    "    \n",
    "    # Return the object itself\n",
    "    def __iter__(self):\n",
    "      return self"
   ]
  },
  {
   "attachments": {},
   "cell_type": "markdown",
   "metadata": {},
   "source": [
    "### It can now be iterated upon by using a for loop"
   ]
  },
  {
   "cell_type": "code",
   "execution_count": 25,
   "metadata": {},
   "outputs": [],
   "source": [
    "sq = Squares(10)"
   ]
  },
  {
   "cell_type": "code",
   "execution_count": 26,
   "metadata": {},
   "outputs": [
    {
     "name": "stdout",
     "output_type": "stream",
     "text": [
      "0\n",
      "1\n",
      "4\n",
      "9\n",
      "16\n",
      "25\n",
      "36\n",
      "49\n",
      "64\n",
      "81\n"
     ]
    }
   ],
   "source": [
    "for item in sq:\n",
    "    print(item)"
   ]
  },
  {
   "attachments": {},
   "cell_type": "markdown",
   "metadata": {},
   "source": [
    "### Iterators get exhausted after iterating upon each"
   ]
  },
  {
   "cell_type": "code",
   "execution_count": 27,
   "metadata": {},
   "outputs": [],
   "source": [
    "for item in sq:\n",
    "    # Here there is no item, because the iterator is exhausted\n",
    "    print(item)"
   ]
  },
  {
   "attachments": {},
   "cell_type": "markdown",
   "metadata": {},
   "source": [
    "### You must create a new instance of the Squares class to create a new iterator object"
   ]
  },
  {
   "cell_type": "code",
   "execution_count": 28,
   "metadata": {},
   "outputs": [],
   "source": [
    "sq = Squares(20)"
   ]
  },
  {
   "cell_type": "code",
   "execution_count": 29,
   "metadata": {},
   "outputs": [
    {
     "name": "stdout",
     "output_type": "stream",
     "text": [
      "0\n",
      "1\n",
      "4\n",
      "9\n",
      "16\n",
      "25\n",
      "36\n",
      "49\n",
      "64\n",
      "81\n",
      "100\n",
      "121\n",
      "144\n",
      "169\n",
      "196\n",
      "225\n",
      "256\n",
      "289\n",
      "324\n",
      "361\n"
     ]
    }
   ],
   "source": [
    "for item in sq:\n",
    "    print(item)"
   ]
  },
  {
   "attachments": {},
   "cell_type": "markdown",
   "metadata": {},
   "source": [
    "### You can also create a list comprehension out of the iterator object"
   ]
  },
  {
   "cell_type": "code",
   "execution_count": 35,
   "metadata": {},
   "outputs": [
    {
     "data": {
      "text/plain": [
       "[0, 9, 36, 81, 144, 225, 324, 441, 576]"
      ]
     },
     "execution_count": 35,
     "metadata": {},
     "output_type": "execute_result"
    }
   ],
   "source": [
    "sq = Squares(25)\n",
    "\n",
    "my_list = [n \n",
    "           for n in sq \n",
    "           if n % 3 == 0]\n",
    "my_list"
   ]
  },
  {
   "cell_type": "code",
   "execution_count": 36,
   "metadata": {},
   "outputs": [
    {
     "data": {
      "text/plain": [
       "[(0, 1),\n",
       " (1, 2),\n",
       " (4, 5),\n",
       " (9, 10),\n",
       " (16, 17),\n",
       " (25, 26),\n",
       " (36, 37),\n",
       " (49, 50),\n",
       " (64, 65),\n",
       " (81, 82),\n",
       " (100, 101),\n",
       " (121, 122),\n",
       " (144, 145),\n",
       " (169, 170),\n",
       " (196, 197),\n",
       " (225, 226),\n",
       " (256, 257),\n",
       " (289, 290),\n",
       " (324, 325),\n",
       " (361, 362),\n",
       " (400, 401),\n",
       " (441, 442),\n",
       " (484, 485),\n",
       " (529, 530),\n",
       " (576, 577)]"
      ]
     },
     "execution_count": 36,
     "metadata": {},
     "output_type": "execute_result"
    }
   ],
   "source": [
    "sq = Squares(25)\n",
    "\n",
    "my_list = [(n, n+1) \n",
    "           for n in sq]\n",
    "my_list"
   ]
  },
  {
   "cell_type": "code",
   "execution_count": 37,
   "metadata": {},
   "outputs": [
    {
     "data": {
      "text/plain": [
       "[0.0, 2.0, 4.0, 6.0, 8.0, 10.0, 12.0, 14.0, 16.0, 18.0, 20.0, 22.0, 24.0]"
      ]
     },
     "execution_count": 37,
     "metadata": {},
     "output_type": "execute_result"
    }
   ],
   "source": [
    "import math\n",
    "\n",
    "\n",
    "sq = Squares(25)\n",
    "\n",
    "my_list = [math.sqrt(n) \n",
    "           for n in sq \n",
    "           if n % 2 == 0]\n",
    "my_list"
   ]
  },
  {
   "attachments": {},
   "cell_type": "markdown",
   "metadata": {},
   "source": [
    "### Using enumerate method"
   ]
  },
  {
   "cell_type": "code",
   "execution_count": 40,
   "metadata": {},
   "outputs": [
    {
     "data": {
      "text/plain": [
       "[(0, 0),\n",
       " (1, 1),\n",
       " (2, 4),\n",
       " (3, 9),\n",
       " (4, 16),\n",
       " (5, 25),\n",
       " (6, 36),\n",
       " (7, 49),\n",
       " (8, 64),\n",
       " (9, 81),\n",
       " (10, 100),\n",
       " (11, 121),\n",
       " (12, 144),\n",
       " (13, 169),\n",
       " (14, 196),\n",
       " (15, 225),\n",
       " (16, 256),\n",
       " (17, 289),\n",
       " (18, 324),\n",
       " (19, 361),\n",
       " (20, 400)]"
      ]
     },
     "execution_count": 40,
     "metadata": {},
     "output_type": "execute_result"
    }
   ],
   "source": [
    "sq = Squares(21)\n",
    "\n",
    "list(enumerate(sq))"
   ]
  },
  {
   "attachments": {},
   "cell_type": "markdown",
   "metadata": {},
   "source": [
    "### Sorting"
   ]
  },
  {
   "cell_type": "code",
   "execution_count": 41,
   "metadata": {},
   "outputs": [
    {
     "data": {
      "text/plain": [
       "[196, 169, 144, 121, 100, 81, 64, 49, 36, 25, 16, 9, 4, 1, 0]"
      ]
     },
     "execution_count": 41,
     "metadata": {},
     "output_type": "execute_result"
    }
   ],
   "source": [
    "sq = Squares(15)\n",
    "\n",
    "sorted(sq, reverse=True)"
   ]
  },
  {
   "attachments": {},
   "cell_type": "markdown",
   "metadata": {},
   "source": [
    "### Behind the scenes"
   ]
  },
  {
   "cell_type": "code",
   "execution_count": 47,
   "metadata": {},
   "outputs": [],
   "source": [
    "class Squares:\n",
    "    def __init__(self, length) -> None:\n",
    "        self.length = length\n",
    "        self.i = 0\n",
    "        \n",
    "    def __len__(self) -> int:\n",
    "        return self.length\n",
    "        \n",
    "    def __next__(self) -> int:\n",
    "        print('__next__ CALLED!')\n",
    "        if self.i >= self.length:\n",
    "            raise StopIteration\n",
    "        else:\n",
    "            result = self.i ** 2 \n",
    "            self.i += 1\n",
    "            return result\n",
    "    \n",
    "    # Return the object itself\n",
    "    def __iter__(self):\n",
    "        print('__iter__ CALLED!')\n",
    "        return self"
   ]
  },
  {
   "attachments": {},
   "cell_type": "markdown",
   "metadata": {},
   "source": [
    "### Using while loop"
   ]
  },
  {
   "cell_type": "code",
   "execution_count": 48,
   "metadata": {},
   "outputs": [
    {
     "name": "stdout",
     "output_type": "stream",
     "text": [
      "__next__ CALLED!\n",
      "0\n",
      "__next__ CALLED!\n",
      "1\n",
      "__next__ CALLED!\n",
      "4\n",
      "__next__ CALLED!\n",
      "9\n",
      "__next__ CALLED!\n",
      "16\n",
      "__next__ CALLED!\n",
      "25\n",
      "__next__ CALLED!\n",
      "36\n",
      "__next__ CALLED!\n",
      "49\n",
      "__next__ CALLED!\n",
      "64\n",
      "__next__ CALLED!\n",
      "81\n",
      "__next__ CALLED!\n",
      "StopIteration was raised!\n"
     ]
    }
   ],
   "source": [
    "sq = Squares(10)\n",
    "\n",
    "\n",
    "while True:\n",
    "    try:\n",
    "        item = next(sq)\n",
    "        print(item)\n",
    "    except StopIteration:\n",
    "        print('StopIteration was raised!')\n",
    "        break\n"
   ]
  },
  {
   "attachments": {},
   "cell_type": "markdown",
   "metadata": {},
   "source": [
    "### Using for loop"
   ]
  },
  {
   "cell_type": "code",
   "execution_count": 49,
   "metadata": {},
   "outputs": [
    {
     "name": "stdout",
     "output_type": "stream",
     "text": [
      "__iter__ CALLED!\n",
      "__next__ CALLED!\n",
      "0\n",
      "__next__ CALLED!\n",
      "1\n",
      "__next__ CALLED!\n",
      "4\n",
      "__next__ CALLED!\n",
      "9\n",
      "__next__ CALLED!\n",
      "16\n",
      "__next__ CALLED!\n",
      "25\n",
      "__next__ CALLED!\n",
      "36\n",
      "__next__ CALLED!\n",
      "49\n",
      "__next__ CALLED!\n",
      "64\n",
      "__next__ CALLED!\n",
      "81\n",
      "__next__ CALLED!\n"
     ]
    }
   ],
   "source": [
    "sq = Squares(10)\n",
    "\n",
    "\n",
    "for item in sq:\n",
    "    print(item)"
   ]
  },
  {
   "attachments": {},
   "cell_type": "markdown",
   "metadata": {},
   "source": [
    "### Using a list comprehension"
   ]
  },
  {
   "cell_type": "code",
   "execution_count": 51,
   "metadata": {},
   "outputs": [
    {
     "name": "stdout",
     "output_type": "stream",
     "text": [
      "__iter__ CALLED!\n",
      "__next__ CALLED!\n",
      "__next__ CALLED!\n",
      "__next__ CALLED!\n",
      "__next__ CALLED!\n",
      "__next__ CALLED!\n",
      "__next__ CALLED!\n",
      "__next__ CALLED!\n",
      "__next__ CALLED!\n",
      "__next__ CALLED!\n",
      "__next__ CALLED!\n",
      "__next__ CALLED!\n"
     ]
    },
    {
     "data": {
      "text/plain": [
       "[0, 4, 16, 36, 64]"
      ]
     },
     "execution_count": 51,
     "metadata": {},
     "output_type": "execute_result"
    }
   ],
   "source": [
    "sq = Squares(10)\n",
    "\n",
    "[item \n",
    " for item in sq\n",
    " if item % 2 == 0]\n"
   ]
  },
  {
   "attachments": {},
   "cell_type": "markdown",
   "metadata": {},
   "source": [
    "### The \\_\\_iter\\_\\_ method was called before the iteration to create an iterator object for the next method to call the iterator object created therefore iterating through the sequence"
   ]
  },
  {
   "cell_type": "code",
   "execution_count": 53,
   "metadata": {},
   "outputs": [
    {
     "name": "stdout",
     "output_type": "stream",
     "text": [
      "__iter__ CALLED!\n",
      "2179978247568 2179978247568\n",
      "__next__ CALLED!\n",
      "0\n",
      "__next__ CALLED!\n",
      "1\n",
      "__next__ CALLED!\n",
      "4\n",
      "__next__ CALLED!\n",
      "9\n",
      "__next__ CALLED!\n",
      "16\n",
      "__next__ CALLED!\n",
      "25\n",
      "__next__ CALLED!\n",
      "36\n",
      "__next__ CALLED!\n",
      "49\n",
      "__next__ CALLED!\n",
      "64\n",
      "__next__ CALLED!\n",
      "81\n",
      "__next__ CALLED!\n",
      "StopIteration exception was raised!\n"
     ]
    }
   ],
   "source": [
    "sq = Squares(10)\n",
    "\n",
    "sq_iter = iter(sq)\n",
    "print(id(sq), id(sq_iter))\n",
    "\n",
    "while True:\n",
    "    try:\n",
    "        item = next(sq)\n",
    "        print(item)\n",
    "    except StopIteration:\n",
    "        print('StopIteration exception was raised!')\n",
    "        break\n"
   ]
  }
 ],
 "metadata": {
  "kernelspec": {
   "display_name": "Python 3",
   "language": "python",
   "name": "python3"
  },
  "language_info": {
   "codemirror_mode": {
    "name": "ipython",
    "version": 3
   },
   "file_extension": ".py",
   "mimetype": "text/x-python",
   "name": "python",
   "nbconvert_exporter": "python",
   "pygments_lexer": "ipython3",
   "version": "3.11.2"
  },
  "orig_nbformat": 4
 },
 "nbformat": 4,
 "nbformat_minor": 2
}
