{
 "cells": [
  {
   "attachments": {},
   "cell_type": "markdown",
   "metadata": {},
   "source": [
    "### Iterator and Iterables\n"
   ]
  },
  {
   "cell_type": "code",
   "execution_count": 149,
   "metadata": {},
   "outputs": [],
   "source": [
    "class Cities:\n",
    "    def __init__(self):\n",
    "        self._cities = ['Paris', 'London', 'Manila', 'Madrid', 'Rome', 'New York']\n",
    "        self._index = 0\n",
    "    \n",
    "    # It has to return self    \n",
    "    def __iter__(self):\n",
    "        return self\n",
    "    \n",
    "    def __next__(self):\n",
    "        if self._index >= len(self._cities):\n",
    "            raise StopIteration\n",
    "        else:\n",
    "            item = self._cities[self._index]\n",
    "            self._index += 1\n",
    "            return item\n",
    "        "
   ]
  },
  {
   "cell_type": "code",
   "execution_count": 150,
   "metadata": {},
   "outputs": [
    {
     "data": {
      "text/plain": [
       "__main__.Cities"
      ]
     },
     "execution_count": 150,
     "metadata": {},
     "output_type": "execute_result"
    }
   ],
   "source": [
    "cities = Cities()\n",
    "type(cities)"
   ]
  },
  {
   "cell_type": "code",
   "execution_count": 151,
   "metadata": {},
   "outputs": [
    {
     "data": {
      "text/plain": [
       "[(0, 'Paris'),\n",
       " (1, 'London'),\n",
       " (2, 'Manila'),\n",
       " (3, 'Madrid'),\n",
       " (4, 'Rome'),\n",
       " (5, 'New York')]"
      ]
     },
     "execution_count": 151,
     "metadata": {},
     "output_type": "execute_result"
    }
   ],
   "source": [
    "list(enumerate(cities))"
   ]
  },
  {
   "attachments": {},
   "cell_type": "markdown",
   "metadata": {},
   "source": [
    "### cities object has been exhausted therefore cannot iterate through it again"
   ]
  },
  {
   "cell_type": "code",
   "execution_count": 152,
   "metadata": {},
   "outputs": [
    {
     "ename": "StopIteration",
     "evalue": "",
     "output_type": "error",
     "traceback": [
      "\u001b[1;31m---------------------------------------------------------------------------\u001b[0m",
      "\u001b[1;31mStopIteration\u001b[0m                             Traceback (most recent call last)",
      "Cell \u001b[1;32mIn[152], line 1\u001b[0m\n\u001b[1;32m----> 1\u001b[0m \u001b[39mnext\u001b[39;49m(cities)\n",
      "Cell \u001b[1;32mIn[149], line 12\u001b[0m, in \u001b[0;36mCities.__next__\u001b[1;34m(self)\u001b[0m\n\u001b[0;32m     10\u001b[0m \u001b[39mdef\u001b[39;00m \u001b[39m__next__\u001b[39m(\u001b[39mself\u001b[39m):\n\u001b[0;32m     11\u001b[0m     \u001b[39mif\u001b[39;00m \u001b[39mself\u001b[39m\u001b[39m.\u001b[39m_index \u001b[39m>\u001b[39m\u001b[39m=\u001b[39m \u001b[39mlen\u001b[39m(\u001b[39mself\u001b[39m\u001b[39m.\u001b[39m_cities):\n\u001b[1;32m---> 12\u001b[0m         \u001b[39mraise\u001b[39;00m \u001b[39mStopIteration\u001b[39;00m\n\u001b[0;32m     13\u001b[0m     \u001b[39melse\u001b[39;00m:\n\u001b[0;32m     14\u001b[0m         item \u001b[39m=\u001b[39m \u001b[39mself\u001b[39m\u001b[39m.\u001b[39m_cities[\u001b[39mself\u001b[39m\u001b[39m.\u001b[39m_index]\n",
      "\u001b[1;31mStopIteration\u001b[0m: "
     ]
    }
   ],
   "source": [
    "next(cities)"
   ]
  },
  {
   "attachments": {},
   "cell_type": "markdown",
   "metadata": {},
   "source": [
    "### To iterate through the cities again, create a new instance of cities"
   ]
  },
  {
   "cell_type": "code",
   "execution_count": null,
   "metadata": {},
   "outputs": [
    {
     "data": {
      "text/plain": [
       "['PARIS', 'LONDON', 'MANILA', 'MADRID', 'ROME', 'NEW YORK']"
      ]
     },
     "execution_count": 14,
     "metadata": {},
     "output_type": "execute_result"
    }
   ],
   "source": [
    "cities = Cities()\n",
    "\n",
    "# Apply list comprehension to map each item to uppercase\n",
    "[item.upper()\n",
    " for item in cities]"
   ]
  },
  {
   "attachments": {},
   "cell_type": "markdown",
   "metadata": {},
   "source": [
    "### Maintain only the list of cities in the class"
   ]
  },
  {
   "cell_type": "code",
   "execution_count": null,
   "metadata": {},
   "outputs": [],
   "source": [
    "class Cities:\n",
    "    def __init__(self) -> None:\n",
    "        self._cities = ['Paris', 'London', 'Manila', 'Madrid', 'Rome', 'New York']\n",
    "        self._index = 0\n",
    "    \n",
    "    def __len__(self) -> int:\n",
    "        return len(self._cities)\n",
    "    "
   ]
  },
  {
   "cell_type": "code",
   "execution_count": null,
   "metadata": {},
   "outputs": [
    {
     "data": {
      "text/plain": [
       "6"
      ]
     },
     "execution_count": 55,
     "metadata": {},
     "output_type": "execute_result"
    }
   ],
   "source": [
    "cities = Cities()\n",
    "\n",
    "len(cities)"
   ]
  },
  {
   "attachments": {},
   "cell_type": "markdown",
   "metadata": {},
   "source": [
    "### Write the iterator"
   ]
  },
  {
   "cell_type": "code",
   "execution_count": null,
   "metadata": {},
   "outputs": [],
   "source": [
    "class CityIterator:\n",
    "    def __init__(self, city_obj) -> None:\n",
    "        self._city_obj = city_obj\n",
    "        self._index = 0\n",
    "           \n",
    "    def __iter__(self):\n",
    "        return self\n",
    "    \n",
    "    def __next__(self):\n",
    "        if self._index >= len(self._city_obj):\n",
    "            raise StopIteration\n",
    "        else:\n",
    "            item = self._city_obj._cities[self._index]\n",
    "            self._index += 1\n",
    "            return item\n",
    "        \n"
   ]
  },
  {
   "cell_type": "code",
   "execution_count": null,
   "metadata": {},
   "outputs": [],
   "source": [
    "cities = Cities()"
   ]
  },
  {
   "attachments": {},
   "cell_type": "markdown",
   "metadata": {},
   "source": [
    "### Create an instance of the CityIterator class"
   ]
  },
  {
   "cell_type": "code",
   "execution_count": null,
   "metadata": {},
   "outputs": [],
   "source": [
    "city_iter = CityIterator(cities)"
   ]
  },
  {
   "cell_type": "code",
   "execution_count": null,
   "metadata": {},
   "outputs": [
    {
     "name": "stdout",
     "output_type": "stream",
     "text": [
      "Paris\n",
      "London\n",
      "Manila\n",
      "Madrid\n",
      "Rome\n",
      "New York\n"
     ]
    }
   ],
   "source": [
    "for city in city_iter:\n",
    "    print(city)"
   ]
  },
  {
   "attachments": {},
   "cell_type": "markdown",
   "metadata": {},
   "source": [
    "### Seperated the City class from the CityIterator class"
   ]
  },
  {
   "cell_type": "code",
   "execution_count": null,
   "metadata": {},
   "outputs": [],
   "source": [
    "cities = Cities()"
   ]
  },
  {
   "cell_type": "code",
   "execution_count": null,
   "metadata": {},
   "outputs": [],
   "source": [
    "city_iter = CityIterator(cities)"
   ]
  },
  {
   "cell_type": "code",
   "execution_count": null,
   "metadata": {},
   "outputs": [
    {
     "data": {
      "text/plain": [
       "['Paris', 'London', 'Manila', 'Madrid', 'Rome', 'New York']"
      ]
     },
     "execution_count": 62,
     "metadata": {},
     "output_type": "execute_result"
    }
   ],
   "source": [
    "# List comprehension\n",
    "[city\n",
    " for city in city_iter]"
   ]
  },
  {
   "attachments": {},
   "cell_type": "markdown",
   "metadata": {},
   "source": [
    "### Implement the iterable protocol"
   ]
  },
  {
   "cell_type": "code",
   "execution_count": null,
   "metadata": {},
   "outputs": [],
   "source": [
    "from typing import Iterator\n",
    "\n",
    "\n",
    "class Cities:\n",
    "    def __init__(self) -> None:\n",
    "        self._cities = ['Paris', 'London', 'Manila', 'Madrid', 'Rome', 'New York']\n",
    "        self._index = 0\n",
    "    \n",
    "    def __len__(self) -> int:\n",
    "        return len(self._cities)\n",
    "    \n",
    "    def __iter__(self) -> Iterator:\n",
    "        return CityIterator(self)"
   ]
  },
  {
   "cell_type": "code",
   "execution_count": null,
   "metadata": {},
   "outputs": [],
   "source": [
    "# Cities class is now iterable\n",
    "cities = Cities()"
   ]
  },
  {
   "cell_type": "code",
   "execution_count": null,
   "metadata": {},
   "outputs": [
    {
     "name": "stdout",
     "output_type": "stream",
     "text": [
      "Paris\n",
      "London\n",
      "Manila\n",
      "Madrid\n",
      "Rome\n",
      "New York\n"
     ]
    }
   ],
   "source": [
    "for item in cities:\n",
    "    print(item)"
   ]
  },
  {
   "attachments": {},
   "cell_type": "markdown",
   "metadata": {},
   "source": [
    "### Behind the Scenes"
   ]
  },
  {
   "cell_type": "code",
   "execution_count": null,
   "metadata": {},
   "outputs": [],
   "source": [
    "from typing import Iterator\n",
    "\n",
    "\n",
    "class Cities:\n",
    "    def __init__(self) -> None:\n",
    "        self._cities = ['Paris', 'London', 'Manila', 'Madrid', 'Rome', 'New York']\n",
    "        self._index = 0\n",
    "    \n",
    "    def __len__(self) -> int:\n",
    "        return len(self._cities)\n",
    "    \n",
    "    def __iter__(self) -> Iterator:\n",
    "        print('Cities __iter__ called')\n",
    "        return CityIterator(self)"
   ]
  },
  {
   "cell_type": "code",
   "execution_count": null,
   "metadata": {},
   "outputs": [],
   "source": [
    "class CityIterator:\n",
    "    def __init__(self, city_obj) -> None:\n",
    "        print('CityIterator new object!')\n",
    "        self._city_obj = city_obj\n",
    "        self._index = 0\n",
    "           \n",
    "    def __iter__(self) -> Iterator:\n",
    "        print('CityIterator __iter__ called')\n",
    "        return self\n",
    "    \n",
    "    def __next__(self) -> str:\n",
    "        print('CityIterator __next__ called')\n",
    "        if self._index >= len(self._city_obj):\n",
    "            raise StopIteration\n",
    "        else:\n",
    "            item = self._city_obj._cities[self._index]\n",
    "            self._index += 1\n",
    "            return item"
   ]
  },
  {
   "cell_type": "code",
   "execution_count": null,
   "metadata": {},
   "outputs": [
    {
     "name": "stdout",
     "output_type": "stream",
     "text": [
      "Cities __iter__ called\n",
      "CityIterator new object!\n",
      "CityIterator __next__ called\n",
      "Paris\n",
      "CityIterator __next__ called\n",
      "London\n",
      "CityIterator __next__ called\n",
      "Manila\n",
      "CityIterator __next__ called\n",
      "Madrid\n",
      "CityIterator __next__ called\n",
      "Rome\n",
      "CityIterator __next__ called\n",
      "New York\n",
      "CityIterator __next__ called\n"
     ]
    }
   ],
   "source": [
    "cities = Cities()\n",
    "\n",
    "for city in cities:\n",
    "    print(city)"
   ]
  },
  {
   "attachments": {},
   "cell_type": "markdown",
   "metadata": {},
   "source": [
    "### Don't need to create a new object for the iteration, city object creates a new iterator"
   ]
  },
  {
   "cell_type": "code",
   "execution_count": null,
   "metadata": {},
   "outputs": [
    {
     "name": "stdout",
     "output_type": "stream",
     "text": [
      "Cities __iter__ called\n",
      "CityIterator new object!\n",
      "CityIterator __next__ called\n",
      "Paris\n",
      "CityIterator __next__ called\n",
      "London\n",
      "CityIterator __next__ called\n",
      "Manila\n",
      "CityIterator __next__ called\n",
      "Madrid\n",
      "CityIterator __next__ called\n",
      "Rome\n",
      "CityIterator __next__ called\n",
      "New York\n",
      "CityIterator __next__ called\n"
     ]
    }
   ],
   "source": [
    "for city in cities:\n",
    "    print(city)"
   ]
  },
  {
   "attachments": {},
   "cell_type": "markdown",
   "metadata": {},
   "source": [
    "### New Iterator objects are created"
   ]
  },
  {
   "cell_type": "code",
   "execution_count": null,
   "metadata": {},
   "outputs": [
    {
     "name": "stdout",
     "output_type": "stream",
     "text": [
      "Cities __iter__ called\n",
      "CityIterator new object!\n",
      "Cities __iter__ called\n",
      "CityIterator new object!\n"
     ]
    }
   ],
   "source": [
    "city_iter_1 = cities.__iter__()\n",
    "city_iter_2 = cities.__iter__()"
   ]
  },
  {
   "cell_type": "code",
   "execution_count": null,
   "metadata": {},
   "outputs": [
    {
     "data": {
      "text/plain": [
       "True"
      ]
     },
     "execution_count": 97,
     "metadata": {},
     "output_type": "execute_result"
    }
   ],
   "source": [
    "city_iter_1 is not city_iter_2"
   ]
  },
  {
   "cell_type": "code",
   "execution_count": null,
   "metadata": {},
   "outputs": [
    {
     "name": "stdout",
     "output_type": "stream",
     "text": [
      "CityIterator __iter__ called\n",
      "CityIterator __next__ called\n",
      "Paris\n",
      "CityIterator __next__ called\n",
      "London\n",
      "CityIterator __next__ called\n",
      "Manila\n",
      "CityIterator __next__ called\n",
      "Madrid\n",
      "CityIterator __next__ called\n",
      "Rome\n",
      "CityIterator __next__ called\n",
      "New York\n",
      "CityIterator __next__ called\n"
     ]
    }
   ],
   "source": [
    "for city in city_iter_1:\n",
    "    print(city)"
   ]
  },
  {
   "cell_type": "code",
   "execution_count": null,
   "metadata": {},
   "outputs": [
    {
     "name": "stdout",
     "output_type": "stream",
     "text": [
      "CityIterator __iter__ called\n",
      "CityIterator __next__ called\n"
     ]
    }
   ],
   "source": [
    "for city in city_iter_1:\n",
    "    print(city)"
   ]
  },
  {
   "cell_type": "code",
   "execution_count": null,
   "metadata": {},
   "outputs": [],
   "source": [
    "del CityIterator"
   ]
  },
  {
   "cell_type": "code",
   "execution_count": null,
   "metadata": {},
   "outputs": [],
   "source": [
    "del Cities"
   ]
  },
  {
   "attachments": {},
   "cell_type": "markdown",
   "metadata": {},
   "source": [
    "### Class Iterable and Iterator Integration"
   ]
  },
  {
   "cell_type": "code",
   "execution_count": null,
   "metadata": {},
   "outputs": [],
   "source": [
    "class Cities:\n",
    "    def __init__(self) -> None:\n",
    "        self._cities = ['Paris', 'London', 'Manila', 'Madrid', 'Rome', 'New York']\n",
    "        self._index = 0\n",
    "    \n",
    "    def __len__(self) -> int:\n",
    "        return len(self._cities)\n",
    "    \n",
    "    def __iter__(self) -> Iterator:\n",
    "        print('Cities __iter__ called')\n",
    "        return self.CityIterator(self)\n",
    "    \n",
    "    class CityIterator:\n",
    "        def __init__(self, city_obj) -> None:\n",
    "            print('CityIterator new object!')\n",
    "            self._city_obj = city_obj\n",
    "            self._index = 0\n",
    "            \n",
    "        def __iter__(self) -> Iterator:\n",
    "            print('CityIterator __iter__ called')\n",
    "            return self\n",
    "        \n",
    "        def __next__(self) -> str:\n",
    "            print('CityIterator __next__ called')\n",
    "            if self._index >= len(self._city_obj):\n",
    "                raise StopIteration\n",
    "            else:\n",
    "                item = self._city_obj._cities[self._index]\n",
    "                self._index += 1\n",
    "                return item\n",
    "            "
   ]
  },
  {
   "cell_type": "code",
   "execution_count": null,
   "metadata": {},
   "outputs": [],
   "source": [
    "cities = Cities()"
   ]
  },
  {
   "cell_type": "code",
   "execution_count": null,
   "metadata": {},
   "outputs": [
    {
     "name": "stdout",
     "output_type": "stream",
     "text": [
      "Cities __iter__ called\n",
      "CityIterator new object!\n",
      "CityIterator __next__ called\n",
      "Paris\n",
      "CityIterator __next__ called\n",
      "London\n",
      "CityIterator __next__ called\n",
      "Manila\n",
      "CityIterator __next__ called\n",
      "Madrid\n",
      "CityIterator __next__ called\n",
      "Rome\n",
      "CityIterator __next__ called\n",
      "New York\n",
      "CityIterator __next__ called\n"
     ]
    }
   ],
   "source": [
    "for city in cities:\n",
    "    print(city)"
   ]
  },
  {
   "cell_type": "code",
   "execution_count": null,
   "metadata": {},
   "outputs": [
    {
     "name": "stdout",
     "output_type": "stream",
     "text": [
      "Cities __iter__ called\n",
      "CityIterator new object!\n",
      "CityIterator __next__ called\n",
      "CityIterator __next__ called\n",
      "CityIterator __next__ called\n",
      "CityIterator __next__ called\n",
      "CityIterator __next__ called\n",
      "CityIterator __next__ called\n",
      "CityIterator __next__ called\n"
     ]
    },
    {
     "data": {
      "text/plain": [
       "[(0, 'Paris'),\n",
       " (1, 'London'),\n",
       " (2, 'Manila'),\n",
       " (3, 'Madrid'),\n",
       " (4, 'Rome'),\n",
       " (5, 'New York')]"
      ]
     },
     "execution_count": 118,
     "metadata": {},
     "output_type": "execute_result"
    }
   ],
   "source": [
    "list(enumerate(cities))"
   ]
  },
  {
   "cell_type": "code",
   "execution_count": null,
   "metadata": {},
   "outputs": [
    {
     "name": "stdout",
     "output_type": "stream",
     "text": [
      "Cities __iter__ called\n",
      "CityIterator new object!\n",
      "CityIterator __next__ called\n",
      "CityIterator __next__ called\n",
      "CityIterator __next__ called\n",
      "CityIterator __next__ called\n",
      "CityIterator __next__ called\n",
      "CityIterator __next__ called\n",
      "CityIterator __next__ called\n"
     ]
    },
    {
     "data": {
      "text/plain": [
       "['Paris', 'London', 'Madrid', 'Rome', 'New York']"
      ]
     },
     "execution_count": 119,
     "metadata": {},
     "output_type": "execute_result"
    }
   ],
   "source": [
    "filtered_cities = filter(lambda city: city != 'Manila', list(cities))\n",
    "list(filtered_cities)"
   ]
  },
  {
   "cell_type": "code",
   "execution_count": null,
   "metadata": {},
   "outputs": [
    {
     "name": "stdout",
     "output_type": "stream",
     "text": [
      "Cities __iter__ called\n",
      "CityIterator new object!\n",
      "CityIterator __next__ called\n",
      "CityIterator __next__ called\n",
      "CityIterator __next__ called\n",
      "CityIterator __next__ called\n",
      "CityIterator __next__ called\n",
      "CityIterator __next__ called\n",
      "CityIterator __next__ called\n"
     ]
    },
    {
     "data": {
      "text/plain": [
       "['Rome', 'Paris', 'London', 'Manila', 'Madrid', 'New York']"
      ]
     },
     "execution_count": 120,
     "metadata": {},
     "output_type": "execute_result"
    }
   ],
   "source": [
    "sorted(cities, key=lambda x: len(x))"
   ]
  },
  {
   "attachments": {},
   "cell_type": "markdown",
   "metadata": {},
   "source": [
    "### Create an iterator"
   ]
  },
  {
   "cell_type": "code",
   "execution_count": null,
   "metadata": {},
   "outputs": [
    {
     "name": "stdout",
     "output_type": "stream",
     "text": [
      "Cities __iter__ called\n",
      "CityIterator new object!\n"
     ]
    }
   ],
   "source": [
    "city_iterator = cities.__iter__()"
   ]
  },
  {
   "cell_type": "code",
   "execution_count": null,
   "metadata": {},
   "outputs": [
    {
     "name": "stdout",
     "output_type": "stream",
     "text": [
      "CityIterator __iter__ called\n",
      "CityIterator __next__ called\n",
      "Paris\n",
      "CityIterator __next__ called\n",
      "London\n",
      "CityIterator __next__ called\n",
      "Manila\n",
      "CityIterator __next__ called\n",
      "Madrid\n",
      "CityIterator __next__ called\n",
      "Rome\n",
      "CityIterator __next__ called\n",
      "New York\n",
      "CityIterator __next__ called\n"
     ]
    }
   ],
   "source": [
    "for city in city_iterator:\n",
    "    print(city)"
   ]
  },
  {
   "cell_type": "code",
   "execution_count": null,
   "metadata": {},
   "outputs": [
    {
     "name": "stdout",
     "output_type": "stream",
     "text": [
      "CityIterator __iter__ called\n",
      "CityIterator __next__ called\n"
     ]
    }
   ],
   "source": [
    "for city in city_iterator:\n",
    "    print(city)"
   ]
  },
  {
   "attachments": {},
   "cell_type": "markdown",
   "metadata": {},
   "source": [
    "### Works also with sets"
   ]
  },
  {
   "cell_type": "code",
   "execution_count": null,
   "metadata": {},
   "outputs": [],
   "source": [
    "my_set = {'RR', 23, False, 'Python', 3.14}"
   ]
  },
  {
   "cell_type": "code",
   "execution_count": null,
   "metadata": {},
   "outputs": [
    {
     "data": {
      "text/plain": [
       "<set_iterator at 0x218a06960c0>"
      ]
     },
     "execution_count": 141,
     "metadata": {},
     "output_type": "execute_result"
    }
   ],
   "source": [
    "# It has an iter method\n",
    "my_set.__iter__()"
   ]
  },
  {
   "cell_type": "code",
   "execution_count": null,
   "metadata": {},
   "outputs": [
    {
     "name": "stdout",
     "output_type": "stream",
     "text": [
      "False\n",
      "3.14\n",
      "RR\n",
      "23\n",
      "Python\n"
     ]
    }
   ],
   "source": [
    "set_iterator = iter(my_set)\n",
    "\n",
    "for item in set_iterator:\n",
    "    print(item)"
   ]
  },
  {
   "attachments": {},
   "cell_type": "markdown",
   "metadata": {},
   "source": [
    "### Support for Sequence Types"
   ]
  },
  {
   "cell_type": "code",
   "execution_count": 153,
   "metadata": {},
   "outputs": [],
   "source": [
    "class Cities:\n",
    "    def __init__(self) -> None:\n",
    "        self._cities = ['Paris', 'London', 'Manila', 'Madrid', 'Rome', 'New York']\n",
    "        self._index = 0\n",
    "    \n",
    "    def __len__(self) -> int:\n",
    "        return len(self._cities)\n",
    "    \n",
    "    def __iter__(self) -> Iterator:\n",
    "        print('Cities __iter__ called')\n",
    "        return self.CityIterator(self)\n",
    "    \n",
    "    def __getitem__(self, s):\n",
    "        print('getting item...')\n",
    "        return self._cities[s]\n",
    "    \n",
    "    class CityIterator:\n",
    "        def __init__(self, city_obj) -> None:\n",
    "            print('CityIterator new object!')\n",
    "            self._city_obj = city_obj\n",
    "            self._index = 0\n",
    "            \n",
    "        def __iter__(self) -> Iterator:\n",
    "            print('CityIterator __iter__ called')\n",
    "            return self\n",
    "        \n",
    "        def __next__(self) -> str:\n",
    "            print('CityIterator __next__ called')\n",
    "            if self._index >= len(self._city_obj):\n",
    "                raise StopIteration\n",
    "            else:\n",
    "                item = self._city_obj._cities[self._index]\n",
    "                self._index += 1\n",
    "                return item\n",
    "            "
   ]
  },
  {
   "cell_type": "code",
   "execution_count": 160,
   "metadata": {},
   "outputs": [
    {
     "name": "stdout",
     "output_type": "stream",
     "text": [
      "getting item...\n"
     ]
    },
    {
     "data": {
      "text/plain": [
       "'Manila'"
      ]
     },
     "execution_count": 160,
     "metadata": {},
     "output_type": "execute_result"
    }
   ],
   "source": [
    "cities = Cities()\n",
    "\n",
    "cities[2]"
   ]
  }
 ],
 "metadata": {
  "kernelspec": {
   "display_name": "Python 3",
   "language": "python",
   "name": "python3"
  },
  "language_info": {
   "codemirror_mode": {
    "name": "ipython",
    "version": 3
   },
   "file_extension": ".py",
   "mimetype": "text/x-python",
   "name": "python",
   "nbconvert_exporter": "python",
   "pygments_lexer": "ipython3",
   "version": "3.11.2"
  },
  "orig_nbformat": 4
 },
 "nbformat": 4,
 "nbformat_minor": 2
}
