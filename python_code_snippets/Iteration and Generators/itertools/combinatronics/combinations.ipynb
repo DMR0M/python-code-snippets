{
 "cells": [
  {
   "cell_type": "markdown",
   "metadata": {},
   "source": [
    "### Combinations "
   ]
  },
  {
   "cell_type": "code",
   "execution_count": 24,
   "metadata": {},
   "outputs": [],
   "source": [
    "from itertools import combinations, combinations_with_replacement"
   ]
  },
  {
   "cell_type": "code",
   "execution_count": 25,
   "metadata": {},
   "outputs": [
    {
     "name": "stdout",
     "output_type": "stream",
     "text": [
      "Help on class combinations in module itertools:\n",
      "\n",
      "class combinations(builtins.object)\n",
      " |  combinations(iterable, r)\n",
      " |  \n",
      " |  Return successive r-length combinations of elements in the iterable.\n",
      " |  \n",
      " |  combinations(range(4), 3) --> (0,1,2), (0,1,3), (0,2,3), (1,2,3)\n",
      " |  \n",
      " |  Methods defined here:\n",
      " |  \n",
      " |  __getattribute__(self, name, /)\n",
      " |      Return getattr(self, name).\n",
      " |  \n",
      " |  __iter__(self, /)\n",
      " |      Implement iter(self).\n",
      " |  \n",
      " |  __next__(self, /)\n",
      " |      Implement next(self).\n",
      " |  \n",
      " |  __reduce__(...)\n",
      " |      Return state information for pickling.\n",
      " |  \n",
      " |  __setstate__(...)\n",
      " |      Set state information for unpickling.\n",
      " |  \n",
      " |  __sizeof__(...)\n",
      " |      Returns size in memory, in bytes.\n",
      " |  \n",
      " |  ----------------------------------------------------------------------\n",
      " |  Static methods defined here:\n",
      " |  \n",
      " |  __new__(*args, **kwargs) from builtins.type\n",
      " |      Create and return a new object.  See help(type) for accurate signature.\n",
      "\n"
     ]
    }
   ],
   "source": [
    "help(combinations)"
   ]
  },
  {
   "cell_type": "code",
   "execution_count": 26,
   "metadata": {},
   "outputs": [
    {
     "name": "stdout",
     "output_type": "stream",
     "text": [
      "Help on class combinations_with_replacement in module itertools:\n",
      "\n",
      "class combinations_with_replacement(builtins.object)\n",
      " |  combinations_with_replacement(iterable, r)\n",
      " |  \n",
      " |  Return successive r-length combinations of elements in the iterable allowing individual elements to have successive repeats.\n",
      " |  \n",
      " |  combinations_with_replacement('ABC', 2) --> ('A','A'), ('A','B'), ('A','C'), ('B','B'), ('B','C'), ('C','C')\n",
      " |  \n",
      " |  Methods defined here:\n",
      " |  \n",
      " |  __getattribute__(self, name, /)\n",
      " |      Return getattr(self, name).\n",
      " |  \n",
      " |  __iter__(self, /)\n",
      " |      Implement iter(self).\n",
      " |  \n",
      " |  __next__(self, /)\n",
      " |      Implement next(self).\n",
      " |  \n",
      " |  __reduce__(...)\n",
      " |      Return state information for pickling.\n",
      " |  \n",
      " |  __setstate__(...)\n",
      " |      Set state information for unpickling.\n",
      " |  \n",
      " |  __sizeof__(...)\n",
      " |      Returns size in memory, in bytes.\n",
      " |  \n",
      " |  ----------------------------------------------------------------------\n",
      " |  Static methods defined here:\n",
      " |  \n",
      " |  __new__(*args, **kwargs) from builtins.type\n",
      " |      Create and return a new object.  See help(type) for accurate signature.\n",
      "\n"
     ]
    }
   ],
   "source": [
    "help(combinations_with_replacement)"
   ]
  },
  {
   "cell_type": "code",
   "execution_count": 28,
   "metadata": {},
   "outputs": [
    {
     "data": {
      "text/plain": [
       "[(0, 1), (0, 4), (1, 4)]"
      ]
     },
     "execution_count": 28,
     "metadata": {},
     "output_type": "execute_result"
    }
   ],
   "source": [
    "perm = combinations((n ** 2 for n in range(3)), 2)\n",
    "list(perm)"
   ]
  },
  {
   "cell_type": "code",
   "execution_count": 29,
   "metadata": {},
   "outputs": [
    {
     "data": {
      "text/plain": [
       "[(0, 0, 0),\n",
       " (0, 0, 1),\n",
       " (0, 0, 4),\n",
       " (0, 1, 1),\n",
       " (0, 1, 4),\n",
       " (0, 4, 4),\n",
       " (1, 1, 1),\n",
       " (1, 1, 4),\n",
       " (1, 4, 4),\n",
       " (4, 4, 4)]"
      ]
     },
     "execution_count": 29,
     "metadata": {},
     "output_type": "execute_result"
    }
   ],
   "source": [
    "perm = combinations_with_replacement((n ** 2 for n in range(3)), 3)\n",
    "list(perm)"
   ]
  },
  {
   "attachments": {},
   "cell_type": "markdown",
   "metadata": {},
   "source": [
    "#### Card Deck Example"
   ]
  },
  {
   "cell_type": "code",
   "execution_count": 30,
   "metadata": {},
   "outputs": [],
   "source": [
    "SUITS = 'SHDC'\n",
    "RANKS = tuple(map(str, range(2, 11))) + tuple('JQKA')"
   ]
  },
  {
   "cell_type": "code",
   "execution_count": 31,
   "metadata": {},
   "outputs": [
    {
     "data": {
      "text/plain": [
       "('2', '3', '4', '5', '6', '7', '8', '9', '10', 'J', 'Q', 'K', 'A')"
      ]
     },
     "execution_count": 31,
     "metadata": {},
     "output_type": "execute_result"
    }
   ],
   "source": [
    "RANKS"
   ]
  },
  {
   "cell_type": "code",
   "execution_count": 33,
   "metadata": {},
   "outputs": [
    {
     "data": {
      "text/plain": [
       "['2S',\n",
       " '3S',\n",
       " '4S',\n",
       " '5S',\n",
       " '6S',\n",
       " '7S',\n",
       " '8S',\n",
       " '9S',\n",
       " '10S',\n",
       " 'JS',\n",
       " 'QS',\n",
       " 'KS',\n",
       " 'AS',\n",
       " '2H',\n",
       " '3H',\n",
       " '4H',\n",
       " '5H',\n",
       " '6H',\n",
       " '7H',\n",
       " '8H',\n",
       " '9H',\n",
       " '10H',\n",
       " 'JH',\n",
       " 'QH',\n",
       " 'KH',\n",
       " 'AH',\n",
       " '2D',\n",
       " '3D',\n",
       " '4D',\n",
       " '5D',\n",
       " '6D',\n",
       " '7D',\n",
       " '8D',\n",
       " '9D',\n",
       " '10D',\n",
       " 'JD',\n",
       " 'QD',\n",
       " 'KD',\n",
       " 'AD',\n",
       " '2C',\n",
       " '3C',\n",
       " '4C',\n",
       " '5C',\n",
       " '6C',\n",
       " '7C',\n",
       " '8C',\n",
       " '9C',\n",
       " '10C',\n",
       " 'JC',\n",
       " 'QC',\n",
       " 'KC',\n",
       " 'AC']"
      ]
     },
     "execution_count": 33,
     "metadata": {},
     "output_type": "execute_result"
    }
   ],
   "source": [
    "deck = [rank + suit \n",
    "        for suit in SUITS \n",
    "        for rank in RANKS]\n",
    "\n",
    "deck"
   ]
  },
  {
   "cell_type": "code",
   "execution_count": 34,
   "metadata": {},
   "outputs": [],
   "source": [
    "from itertools import product"
   ]
  },
  {
   "cell_type": "code",
   "execution_count": 37,
   "metadata": {},
   "outputs": [
    {
     "data": {
      "text/plain": [
       "[('S', '2'),\n",
       " ('S', '3'),\n",
       " ('S', '4'),\n",
       " ('S', '5'),\n",
       " ('S', '6'),\n",
       " ('S', '7'),\n",
       " ('S', '8'),\n",
       " ('S', '9'),\n",
       " ('S', '10'),\n",
       " ('S', 'J'),\n",
       " ('S', 'Q'),\n",
       " ('S', 'K'),\n",
       " ('S', 'A'),\n",
       " ('H', '2'),\n",
       " ('H', '3'),\n",
       " ('H', '4'),\n",
       " ('H', '5'),\n",
       " ('H', '6'),\n",
       " ('H', '7'),\n",
       " ('H', '8'),\n",
       " ('H', '9'),\n",
       " ('H', '10'),\n",
       " ('H', 'J'),\n",
       " ('H', 'Q'),\n",
       " ('H', 'K'),\n",
       " ('H', 'A'),\n",
       " ('D', '2'),\n",
       " ('D', '3'),\n",
       " ('D', '4'),\n",
       " ('D', '5'),\n",
       " ('D', '6'),\n",
       " ('D', '7'),\n",
       " ('D', '8'),\n",
       " ('D', '9'),\n",
       " ('D', '10'),\n",
       " ('D', 'J'),\n",
       " ('D', 'Q'),\n",
       " ('D', 'K'),\n",
       " ('D', 'A'),\n",
       " ('C', '2'),\n",
       " ('C', '3'),\n",
       " ('C', '4'),\n",
       " ('C', '5'),\n",
       " ('C', '6'),\n",
       " ('C', '7'),\n",
       " ('C', '8'),\n",
       " ('C', '9'),\n",
       " ('C', '10'),\n",
       " ('C', 'J'),\n",
       " ('C', 'Q'),\n",
       " ('C', 'K'),\n",
       " ('C', 'A')]"
      ]
     },
     "execution_count": 37,
     "metadata": {},
     "output_type": "execute_result"
    }
   ],
   "source": [
    "list(product(SUITS, RANKS))"
   ]
  },
  {
   "cell_type": "code",
   "execution_count": 42,
   "metadata": {},
   "outputs": [
    {
     "data": {
      "text/plain": [
       "['2S', '3S', '4S', '5S', '6S', '7S', '8S', '9S', '10S', 'JS', 'QS', 'KS']"
      ]
     },
     "execution_count": 42,
     "metadata": {},
     "output_type": "execute_result"
    }
   ],
   "source": [
    "deck = [rank + suit \n",
    "        for suit, rank in product(SUITS, RANKS)]\n",
    "\n",
    "deck[:12]"
   ]
  },
  {
   "cell_type": "code",
   "execution_count": 43,
   "metadata": {},
   "outputs": [],
   "source": [
    "from collections import namedtuple\n",
    "\n",
    "Card = namedtuple('Card', 'rank suit')"
   ]
  },
  {
   "cell_type": "code",
   "execution_count": 46,
   "metadata": {},
   "outputs": [
    {
     "data": {
      "text/plain": [
       "[Card(rank='2', suit='S'),\n",
       " Card(rank='3', suit='S'),\n",
       " Card(rank='4', suit='S'),\n",
       " Card(rank='5', suit='S'),\n",
       " Card(rank='6', suit='S'),\n",
       " Card(rank='7', suit='S'),\n",
       " Card(rank='8', suit='S'),\n",
       " Card(rank='9', suit='S'),\n",
       " Card(rank='10', suit='S'),\n",
       " Card(rank='J', suit='S')]"
      ]
     },
     "execution_count": 46,
     "metadata": {},
     "output_type": "execute_result"
    }
   ],
   "source": [
    "deck = [Card(rank, suit)\n",
    "        for suit, rank in product(SUITS, RANKS)]\n",
    "\n",
    "deck[:10]"
   ]
  },
  {
   "cell_type": "code",
   "execution_count": 47,
   "metadata": {},
   "outputs": [],
   "source": [
    "# As a generator expression\n",
    "deck = (Card(rank, suit)\n",
    "        for suit, rank in product(SUITS, RANKS))"
   ]
  },
  {
   "cell_type": "code",
   "execution_count": 54,
   "metadata": {},
   "outputs": [],
   "source": [
    "# Collection of possible deals or card combination\n",
    "from itertools import combinations\n"
   ]
  },
  {
   "cell_type": "code",
   "execution_count": 58,
   "metadata": {},
   "outputs": [
    {
     "name": "stdout",
     "output_type": "stream",
     "text": [
      "total = 270725\n",
      "acceptable = 1\n",
      "odds = 1/270725\n",
      "odds = 0.0000036938\n"
     ]
    }
   ],
   "source": [
    "from fractions import Fraction\n",
    "\n",
    "\n",
    "deck = (Card(rank, suit)\n",
    "        for suit, rank in product(SUITS, RANKS))\n",
    "\n",
    "sample_space = combinations(deck, 4)\n",
    "total = 0\n",
    "acceptable = 0\n",
    "\n",
    "for outcome in sample_space:\n",
    "    total += 1\n",
    "    for card in outcome:\n",
    "        if card.rank != 'A':\n",
    "            break\n",
    "    \n",
    "    # no break\n",
    "    else:\n",
    "        acceptable += 1\n",
    "        \n",
    "print(f'total = {total}\\nacceptable = {acceptable}')\n",
    "print('odds = {}'.format(Fraction(acceptable, total)))\n",
    "print('odds = {:.10f}'.format(acceptable/total))"
   ]
  },
  {
   "cell_type": "code",
   "execution_count": 59,
   "metadata": {},
   "outputs": [
    {
     "name": "stdout",
     "output_type": "stream",
     "text": [
      "total = 270725\n",
      "acceptable = 1\n",
      "odds = 1/270725\n",
      "odds = 0.0000036938\n"
     ]
    }
   ],
   "source": [
    "from fractions import Fraction\n",
    "\n",
    "\n",
    "deck = (Card(rank, suit)\n",
    "        for suit, rank in product(SUITS, RANKS))\n",
    "\n",
    "sample_space = combinations(deck, 4)\n",
    "total = 0\n",
    "acceptable = 0\n",
    "\n",
    "for outcome in sample_space:\n",
    "    total += 1\n",
    "    \n",
    "    if all(map(lambda x: x.rank == 'A', outcome)):\n",
    "        acceptable += 1\n",
    "        \n",
    "        \n",
    "print(f'total = {total}\\nacceptable = {acceptable}')\n",
    "print('odds = {}'.format(Fraction(acceptable, total)))\n",
    "print('odds = {:.10f}'.format(acceptable/total))"
   ]
  }
 ],
 "metadata": {
  "kernelspec": {
   "display_name": "Python 3",
   "language": "python",
   "name": "python3"
  },
  "language_info": {
   "codemirror_mode": {
    "name": "ipython",
    "version": 3
   },
   "file_extension": ".py",
   "mimetype": "text/x-python",
   "name": "python",
   "nbconvert_exporter": "python",
   "pygments_lexer": "ipython3",
   "version": "3.11.1"
  },
  "orig_nbformat": 4
 },
 "nbformat": 4,
 "nbformat_minor": 2
}
