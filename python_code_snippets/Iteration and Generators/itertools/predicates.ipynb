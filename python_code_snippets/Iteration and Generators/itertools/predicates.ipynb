{
 "cells": [
  {
   "attachments": {},
   "cell_type": "markdown",
   "metadata": {},
   "source": [
    "### Predicates\n",
    "\n",
    "```\n",
    "A function that takes a single argument and returns \n",
    "\n",
    "True or False\n",
    "\n",
    "is called a predicate\n",
    "```"
   ]
  },
  {
   "attachments": {},
   "cell_type": "markdown",
   "metadata": {},
   "source": [
    "```\n",
    "We can make __any__ and __all__ more useful by first \n",
    "\n",
    "applying a predicate to each element of the iterable\n",
    "```\n"
   ]
  },
  {
   "attachments": {},
   "cell_type": "markdown",
   "metadata": {},
   "source": [
    "```\n",
    "sample predicate\n",
    "\n",
    "pred = lambda x: x < 10\n",
    "\n",
    "application:\n",
    "\n",
    "results = [pred(1), pred(2), pred(3), pred(4), pred(100)]\n",
    "```\n"
   ]
  }
 ],
 "metadata": {
  "language_info": {
   "name": "python"
  },
  "orig_nbformat": 4
 },
 "nbformat": 4,
 "nbformat_minor": 2
}
