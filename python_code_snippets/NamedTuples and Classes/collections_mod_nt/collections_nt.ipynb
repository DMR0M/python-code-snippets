{
 "cells": [
  {
   "cell_type": "markdown",
   "metadata": {},
   "source": [
    "### Collections NamedTuples"
   ]
  },
  {
   "cell_type": "code",
   "execution_count": 15,
   "metadata": {},
   "outputs": [],
   "source": [
    "from collections import namedtuple"
   ]
  },
  {
   "cell_type": "code",
   "execution_count": 16,
   "metadata": {},
   "outputs": [
    {
     "name": "stdout",
     "output_type": "stream",
     "text": [
      "User 1: User(name='RR', age=23, location='Pasig City')\n",
      "['RR', 23, 'Pasig City']\n",
      "User 2: User(name='Mari', age=22, location='Taytay')\n",
      "['Mari', 22, 'Taytay']\n",
      "User 3: User(name='Joko', age=28, location='Makati City')\n",
      "['Joko', 28, 'Makati City']\n",
      "User 4: User(name='Rojean', age=18, location='Nueva Ecija')\n",
      "['Rojean', 18, 'Nueva Ecija']\n"
     ]
    }
   ],
   "source": [
    "# A namedtuple declaration\n",
    "Users = namedtuple('User', ('name', 'age', 'location',))\n",
    "\n",
    "def get_users():\n",
    "    return [\n",
    "        Users('RR', 23, 'Pasig City'),\n",
    "        Users('Mari', 22, 'Taytay'),\n",
    "        Users('Joko', 28, 'Makati City'),\n",
    "        Users('Rojean', 18, 'Nueva Ecija'),\n",
    "    ]\n",
    "    \n",
    "users = get_users()\n",
    "\n",
    "# Access an element by its property\n",
    "# using the dot syntax\n",
    "\n",
    "for i, user_attr in enumerate(users, start=1):\n",
    "    print(f'User {i}: {user_attr}')\n",
    "    print([attr \n",
    "           for attr in user_attr])\n",
    "    \n",
    " \n",
    "\n"
   ]
  },
  {
   "cell_type": "code",
   "execution_count": null,
   "metadata": {},
   "outputs": [],
   "source": []
  }
 ],
 "metadata": {
  "kernelspec": {
   "display_name": "base",
   "language": "python",
   "name": "python3"
  },
  "language_info": {
   "codemirror_mode": {
    "name": "ipython",
    "version": 3
   },
   "file_extension": ".py",
   "mimetype": "text/x-python",
   "name": "python",
   "nbconvert_exporter": "python",
   "pygments_lexer": "ipython3",
   "version": "3.9.13"
  },
  "orig_nbformat": 4
 },
 "nbformat": 4,
 "nbformat_minor": 2
}
