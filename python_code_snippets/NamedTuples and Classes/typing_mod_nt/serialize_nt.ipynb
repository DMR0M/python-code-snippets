{
 "cells": [
  {
   "cell_type": "markdown",
   "metadata": {},
   "source": [
    "### JSON Serialization of NamedTuples"
   ]
  },
  {
   "cell_type": "code",
   "execution_count": 5,
   "metadata": {},
   "outputs": [
    {
     "name": "stdout",
     "output_type": "stream",
     "text": [
      "{\n",
      "  \"name\": \"Rommel\",\n",
      "  \"age\": 23,\n",
      "  \"location\": \"Pasig City\"\n",
      "}\n",
      "('name', 'age', 'location')\n",
      "{'location': 'unknown'}\n"
     ]
    }
   ],
   "source": [
    "import json\n",
    "from typing import NamedTuple, Optional\n",
    "\n",
    "\n",
    "class Users(NamedTuple):\n",
    "    \"\"\"Create a class that inherits from NamedTuple\"\"\"\n",
    "    # Initialize the required attributes\n",
    "    name: str\n",
    "    age: int\n",
    "    location: Optional[str] = 'unknown'\n",
    "    \n",
    "    # get the attributes in a formatted string\n",
    "    def get_info(self) -> None:\n",
    "        display_fmt = f\"\"\"User\n",
    "        Name: {self.name}\n",
    "        Age: {self.age}\n",
    "        Location: {self.location}\n",
    "        \"\"\"\n",
    "        return display_fmt\n",
    "    \n",
    "\n",
    "def get_users():\n",
    "    return [\n",
    "        Users('Rommel', 23, 'Pasig City'),\n",
    "        Users('Mari', 23, 'Taytay'),\n",
    "        Users('JB', 31, 'Laguna'),\n",
    "        Users('Rojean', 18,),\n",
    "    ]\n",
    "\n",
    "user_A = get_users()[0]\n",
    "\n",
    "# Without using the _asdict() method\n",
    "json.dumps(user_A)\n",
    "# ['Rommel', 'location', 'Pasig City']\n",
    "\n",
    "\n",
    "# Use the _asdict() method\n",
    "print(json.dumps(user_A._asdict(), indent=2))\n",
    "# {\n",
    "#   \"name\": \"Rommel\",\n",
    "#   \"age\": 23,\n",
    "#   \"location\": \"Pasig City\"\n",
    "# }\n",
    "\n",
    "# Get the keys by using _fields property\n",
    "print(user_A._fields)\n",
    "\n",
    "\n",
    "# Get the field default values by using _field_defaults property\n",
    "print(user_A._field_defaults)"
   ]
  }
 ],
 "metadata": {
  "kernelspec": {
   "display_name": "base",
   "language": "python",
   "name": "python3"
  },
  "language_info": {
   "codemirror_mode": {
    "name": "ipython",
    "version": 3
   },
   "file_extension": ".py",
   "mimetype": "text/x-python",
   "name": "python",
   "nbconvert_exporter": "python",
   "pygments_lexer": "ipython3",
   "version": "3.11.1"
  },
  "orig_nbformat": 4
 },
 "nbformat": 4,
 "nbformat_minor": 2
}
