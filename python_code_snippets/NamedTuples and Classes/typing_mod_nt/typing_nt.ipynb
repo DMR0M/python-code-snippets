{
 "cells": [
  {
   "attachments": {},
   "cell_type": "markdown",
   "metadata": {},
   "source": [
    "### Typing Module NamedTuples"
   ]
  },
  {
   "cell_type": "code",
   "execution_count": 10,
   "metadata": {},
   "outputs": [],
   "source": [
    "from typing import NamedTuple "
   ]
  },
  {
   "cell_type": "code",
   "execution_count": 14,
   "metadata": {},
   "outputs": [
    {
     "name": "stdout",
     "output_type": "stream",
     "text": [
      "User\n",
      "        Name: Rommel\n",
      "        Age: 23\n",
      "        Location: Pasig City\n",
      "        \n",
      "User\n",
      "        Name: Mari\n",
      "        Age: 23\n",
      "        Location: Taytay\n",
      "        \n",
      "User\n",
      "        Name: JB\n",
      "        Age: 31\n",
      "        Location: Laguna\n",
      "        \n",
      "User\n",
      "        Name: Rojean\n",
      "        Age: 18\n",
      "        Location: unknown\n",
      "        \n"
     ]
    }
   ],
   "source": [
    "from typing import Optional\n",
    "\n",
    "class Users(NamedTuple):\n",
    "    \"\"\"Create a class that inherits from NamedTuple\"\"\"\n",
    "    # Initialize the required attributes\n",
    "    name: str\n",
    "    age: int\n",
    "    location: Optional[str] = 'unknown'\n",
    "    \n",
    "    # get the attributes in a formatted string\n",
    "    def get_info(self) -> None:\n",
    "        display_fmt = f\"\"\"User\n",
    "        Name: {self.name}\n",
    "        Age: {self.age}\n",
    "        Location: {self.location}\n",
    "        \"\"\"\n",
    "        return display_fmt\n",
    "    \n",
    "\n",
    "def get_users():\n",
    "    return [\n",
    "        Users('Rommel', 23, 'Pasig City'),\n",
    "        Users('Mari', 23, 'Taytay'),\n",
    "        Users('JB', 31, 'Laguna'),\n",
    "        Users('Rojean', 18,),\n",
    "    ]\n",
    "    \n",
    "for user in get_users():\n",
    "    print(user.get_info())\n",
    "    "
   ]
  }
 ],
 "metadata": {
  "kernelspec": {
   "display_name": "base",
   "language": "python",
   "name": "python3"
  },
  "language_info": {
   "codemirror_mode": {
    "name": "ipython",
    "version": 3
   },
   "file_extension": ".py",
   "mimetype": "text/x-python",
   "name": "python",
   "nbconvert_exporter": "python",
   "pygments_lexer": "ipython3",
   "version": "3.9.13"
  },
  "orig_nbformat": 4
 },
 "nbformat": 4,
 "nbformat_minor": 2
}
