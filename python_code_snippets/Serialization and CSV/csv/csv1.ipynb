{
 "cells": [
  {
   "attachments": {},
   "cell_type": "markdown",
   "metadata": {},
   "source": [
    "### CSV module methods"
   ]
  },
  {
   "cell_type": "code",
   "execution_count": 155,
   "metadata": {},
   "outputs": [],
   "source": [
    "import csv"
   ]
  },
  {
   "attachments": {},
   "cell_type": "markdown",
   "metadata": {},
   "source": [
    "### Reading CSV File"
   ]
  },
  {
   "attachments": {},
   "cell_type": "markdown",
   "metadata": {},
   "source": [
    "### reader() method"
   ]
  },
  {
   "cell_type": "code",
   "execution_count": 156,
   "metadata": {},
   "outputs": [],
   "source": [
    "# arguments\n",
    "\n",
    "# .reader(csv_file, delimiter=',': Optional)"
   ]
  },
  {
   "cell_type": "code",
   "execution_count": 157,
   "metadata": {},
   "outputs": [
    {
     "name": "stdout",
     "output_type": "stream",
     "text": [
      "['001', 'Bulbasaur', 'Grass Poison', '45', '49', '49', '65', '65', '45', '318']\n",
      "['002', 'Ivysaur', 'Grass Poison', '60', '62', '63', '80', '80', '60', '405']\n",
      "['003', 'Venusaur', 'Grass Poison', '80', '82', '83', '100', '100', '80', '525']\n",
      "['004', 'Charmander', 'Fire ', '39', '52', '43', '60', '50', '65', '309']\n",
      "['005', 'Charmeleon', 'Fire ', '58', '64', '58', '80', '65', '80', '405']\n",
      "['006', 'Charizard', 'Fire Flying', '78', '84', '78', '109', '85', '100', '534']\n",
      "['007', 'Squirtle', 'Water ', '44', '48', '65', '50', '64', '43', '314']\n",
      "['008', 'Wartortle', 'Water ', '59', '63', '80', '65', '80', '58', '405']\n",
      "['009', 'Blastoise', 'Water ', '79', '83', '100', '85', '105', '78', '530']\n"
     ]
    }
   ],
   "source": [
    "# prints each row in separate list\n",
    "\n",
    "with open('pkmn_gen1.csv', 'r') as csv_file:\n",
    "    csv_reader = csv.reader(csv_file)\n",
    "    \n",
    "    # NOTE: csv_reader is a csv reader object and a lazy iterator\n",
    "    \n",
    "    for row in list(csv_reader)[1:10]:\n",
    "        print(row)\n",
    "\n"
   ]
  },
  {
   "cell_type": "code",
   "execution_count": 158,
   "metadata": {},
   "outputs": [
    {
     "name": "stdout",
     "output_type": "stream",
     "text": [
      "Bulbasaur Grass Poison\n",
      "Ivysaur Grass Poison\n",
      "Venusaur Grass Poison\n",
      "Charmander Fire \n",
      "Charmeleon Fire \n",
      "Charizard Fire Flying\n",
      "Squirtle Water \n",
      "Wartortle Water \n",
      "Blastoise Water \n"
     ]
    }
   ],
   "source": [
    "with open('pkmn_gen1.csv', 'r') as csv_file:\n",
    "    csv_reader = csv.reader(csv_file)\n",
    "    \n",
    "    # NOTE: csv_reader is a csv reader object and a lazy iterator\n",
    "    \n",
    "    for row in list(csv_reader)[1:10]:\n",
    "        print(row[1], row[2])"
   ]
  },
  {
   "attachments": {},
   "cell_type": "markdown",
   "metadata": {},
   "source": [
    "### DictReader() method"
   ]
  },
  {
   "cell_type": "code",
   "execution_count": 159,
   "metadata": {},
   "outputs": [],
   "source": [
    "# arguments\n",
    "\n",
    "# .DictReader(csv_file) -> returns a dict object column names as keys"
   ]
  },
  {
   "cell_type": "code",
   "execution_count": 160,
   "metadata": {},
   "outputs": [
    {
     "name": "stdout",
     "output_type": "stream",
     "text": [
      "Bulbasaur\n",
      "Ivysaur\n",
      "Venusaur\n",
      "Charmander\n",
      "Charmeleon\n",
      "Charizard\n",
      "Squirtle\n",
      "Wartortle\n",
      "Blastoise\n",
      "Caterpie\n",
      "Metapod\n",
      "Butterfree\n",
      "Weedle\n",
      "Kakuna\n",
      "Beedrill\n",
      "Pidgey\n",
      "Pidgeotto\n",
      "Pidgeot\n",
      "Rattata\n",
      "Raticate\n",
      "Spearow\n",
      "Fearow\n",
      "Ekans\n",
      "Arbok\n",
      "Pikachu\n",
      "Raichu\n",
      "Sandshrew\n",
      "Sandslash\n",
      "Nidoranâ™€\n",
      "Nidorina\n",
      "Nidoqueen\n",
      "Nidoranâ™‚\n",
      "Nidorino\n",
      "Nidoking\n",
      "Clefairy\n",
      "Clefable\n",
      "Vulpix\n",
      "Ninetales\n",
      "Jigglypuff\n",
      "Wigglytuff\n",
      "Zubat\n",
      "Golbat\n",
      "Oddish\n",
      "Gloom\n",
      "Vileplume\n",
      "Paras\n",
      "Parasect\n",
      "Venonat\n",
      "Venomoth\n",
      "Diglett\n",
      "Dugtrio\n",
      "Meowth\n",
      "Persian\n",
      "Psyduck\n",
      "Golduck\n",
      "Mankey\n",
      "Primeape\n",
      "Growlithe\n",
      "Arcanine\n",
      "Poliwag\n",
      "Poliwhirl\n",
      "Poliwrath\n",
      "Abra\n",
      "Kadabra\n",
      "Alakazam\n",
      "Machop\n",
      "Machoke\n",
      "Machamp\n",
      "Bellsprout\n",
      "Weepinbell\n",
      "Victreebel\n",
      "Tentacool\n",
      "Tentacruel\n",
      "Geodude\n",
      "Graveler\n",
      "Golem\n",
      "Ponyta\n",
      "Rapidash\n",
      "Slowpoke\n",
      "Slowbro\n",
      "Magnemite\n",
      "Magneton\n",
      "Farfetch'd\n",
      "Doduo\n",
      "Dodrio\n",
      "Seel\n",
      "Dewgong\n",
      "Grimer\n",
      "Muk\n",
      "Shellder\n",
      "Cloyster\n",
      "Gastly\n",
      "Haunter\n",
      "Gengar\n",
      "Onix\n",
      "Drowzee\n",
      "Hypno\n",
      "Krabby\n",
      "Kingler\n",
      "Voltorb\n",
      "Electrode\n",
      "Exeggcute\n",
      "Exeggutor\n",
      "Cubone\n",
      "Marowak\n",
      "Hitmonlee\n",
      "Hitmonchan\n",
      "Lickitung\n",
      "Koffing\n",
      "Weezing\n",
      "Rhyhorn\n",
      "Rhydon\n",
      "Chansey\n",
      "Tangela\n",
      "Kangaskhan\n",
      "Horsea\n",
      "Seadra\n",
      "Goldeen\n",
      "Seaking\n",
      "Staryu\n",
      "Starmie\n",
      "Mr. Mime\n",
      "Scyther\n",
      "Jynx\n",
      "Electabuzz\n",
      "Magmar\n",
      "Pinsir\n",
      "Tauros\n",
      "Magikarp\n",
      "Gyarados\n",
      "Lapras\n",
      "Ditto\n",
      "Eevee\n",
      "Vaporeon\n",
      "Jolteon\n",
      "Flareon\n",
      "Porygon\n",
      "Omanyte\n",
      "Omastar\n",
      "Kabuto\n",
      "Kabutops\n",
      "Aerodactyl\n",
      "Snorlax\n",
      "Articuno\n",
      "Zapdos\n",
      "Moltres\n",
      "Dratini\n",
      "Dragonair\n",
      "Dragonite\n",
      "Mewtwo\n",
      "Mew\n"
     ]
    }
   ],
   "source": [
    "# prints dictionaries with the column names as keys\n",
    "# and each rows as values\n",
    "\n",
    "with open('pkmn_gen1.csv', 'r') as csv_file:\n",
    "    csv_reader = csv.DictReader(csv_file)\n",
    "    for row in csv_reader:\n",
    "        print(row['Name'])\n",
    "        "
   ]
  },
  {
   "attachments": {},
   "cell_type": "markdown",
   "metadata": {},
   "source": [
    "### Writing CSV File"
   ]
  },
  {
   "attachments": {},
   "cell_type": "markdown",
   "metadata": {},
   "source": [
    "### writer() method"
   ]
  },
  {
   "cell_type": "code",
   "execution_count": 161,
   "metadata": {},
   "outputs": [],
   "source": [
    "# arguments\n",
    "\n",
    "# .writer(path to csv file, delimiter=',': Optional)"
   ]
  },
  {
   "cell_type": "code",
   "execution_count": 162,
   "metadata": {},
   "outputs": [],
   "source": [
    "# Get the 2nd and 3rd element of the content of the csv file\n",
    "# By creating a list of tuples for each\n",
    "\n",
    "with open('pkmn_gen1.csv', 'r') as csv_file:\n",
    "    csv_reader = csv.reader(csv_file)\n",
    "    csv_data = [(row[1], row[2]) \n",
    "                for row in list(csv_reader)[1:10]]\n",
    "\n",
    "# Create a new csv file containing the created csv data\n",
    "with open('sample_dataset.csv', 'w') as csv_file:\n",
    "    csv_writer = csv.writer(csv_file, delimiter='=')\n",
    "    \n",
    "    # NOTE: csv_reader is a csv reader object and a lazy iterator\n",
    "    \n",
    "    for row in csv_data:\n",
    "        csv_writer.writerow(row)\n",
    "        "
   ]
  },
  {
   "cell_type": "code",
   "execution_count": 163,
   "metadata": {},
   "outputs": [],
   "source": [
    "\n",
    "\n",
    "with open('pkmn_gen1.csv', 'r') as csv_file:\n",
    "    csv_reader = csv.reader(csv_file)\n",
    "    csv_data = [(row[1], row[2]) \n",
    "                for row in list(csv_reader)[1:10]]\n",
    "\n",
    "# When creating a csv file you can pass \n",
    "# an optional new line argument to write a row without new lines\n",
    "with open('sample_dataset.csv', 'w', newline='') as csv_file:\n",
    "    csv_writer = csv.writer(csv_file, delimiter='=')\n",
    "    for row in csv_data:\n",
    "        csv_writer.writerow(row)\n"
   ]
  },
  {
   "cell_type": "code",
   "execution_count": 164,
   "metadata": {},
   "outputs": [],
   "source": [
    "with open('pkmn_gen1.csv', 'r') as csv_file:\n",
    "    csv_reader = csv.reader(csv_file)\n",
    "    csv_data = [(row) \n",
    "                for row in list(csv_reader)]\n",
    "\n",
    "# When writing a csv file with a field that has a same delimiter\n",
    "# that field will be wrapped in double quotes to indicate it as a field\n",
    "with open('sample_dataset1.csv', 'w', newline='') as csv_file:\n",
    "    csv_writer = csv.writer(csv_file, delimiter='|')\n",
    "    for row in csv_data:\n",
    "        csv_writer.writerow(row)"
   ]
  },
  {
   "attachments": {},
   "cell_type": "markdown",
   "metadata": {},
   "source": [
    "### DictWriter() method"
   ]
  },
  {
   "cell_type": "code",
   "execution_count": 165,
   "metadata": {},
   "outputs": [],
   "source": [
    "# arguments\n",
    "\n",
    "# .DictWriter(csv_file, columns as keys) -> writes to a csv file with a required keys argument"
   ]
  },
  {
   "cell_type": "code",
   "execution_count": 168,
   "metadata": {},
   "outputs": [
    {
     "name": "stdout",
     "output_type": "stream",
     "text": [
      "[('001', 'Bulbasaur', 'Grass Poison'), ('002', 'Ivysaur', 'Grass Poison'), ('003', 'Venusaur', 'Grass Poison'), ('004', 'Charmander', 'Fire '), ('005', 'Charmeleon', 'Fire '), ('006', 'Charizard', 'Fire Flying'), ('007', 'Squirtle', 'Water '), ('008', 'Wartortle', 'Water '), ('009', 'Blastoise', 'Water '), ('010', 'Caterpie', 'Bug '), ('011', 'Metapod', 'Bug '), ('012', 'Butterfree', 'Bug Flying'), ('013', 'Weedle', 'Bug Poison'), ('014', 'Kakuna', 'Bug Poison'), ('015', 'Beedrill', 'Bug Poison'), ('016', 'Pidgey', 'Normal Flying'), ('017', 'Pidgeotto', 'Normal Flying'), ('018', 'Pidgeot', 'Normal Flying'), ('019', 'Rattata', 'Normal '), ('020', 'Raticate', 'Normal '), ('021', 'Spearow', 'Normal Flying'), ('022', 'Fearow', 'Normal Flying'), ('023', 'Ekans', 'Poison '), ('024', 'Arbok', 'Poison '), ('025', 'Pikachu', 'Electric '), ('026', 'Raichu', 'Electric '), ('027', 'Sandshrew', 'Ground '), ('028', 'Sandslash', 'Ground '), ('029', 'Nidoranâ™€', 'Poison '), ('030', 'Nidorina', 'Poison '), ('031', 'Nidoqueen', 'Poison Ground'), ('032', 'Nidoranâ™‚', 'Poison '), ('033', 'Nidorino', 'Poison '), ('034', 'Nidoking', 'Poison Ground'), ('035', 'Clefairy', 'Fairy '), ('036', 'Clefable', 'Fairy '), ('037', 'Vulpix', 'Fire '), ('038', 'Ninetales', 'Fire '), ('039', 'Jigglypuff', 'Normal Fairy'), ('040', 'Wigglytuff', 'Normal Fairy'), ('041', 'Zubat', 'Poison Flying'), ('042', 'Golbat', 'Poison Flying'), ('043', 'Oddish', 'Grass Poison'), ('044', 'Gloom', 'Grass Poison'), ('045', 'Vileplume', 'Grass Poison'), ('046', 'Paras', 'Bug Grass'), ('047', 'Parasect', 'Bug Grass'), ('048', 'Venonat', 'Bug Poison'), ('049', 'Venomoth', 'Bug Poison'), ('050', 'Diglett', 'Ground '), ('051', 'Dugtrio', 'Ground '), ('052', 'Meowth', 'Normal '), ('053', 'Persian', 'Normal '), ('054', 'Psyduck', 'Water '), ('055', 'Golduck', 'Water '), ('056', 'Mankey', 'Fighting '), ('057', 'Primeape', 'Fighting '), ('058', 'Growlithe', 'Fire '), ('059', 'Arcanine', 'Fire '), ('060', 'Poliwag', 'Water '), ('061', 'Poliwhirl', 'Water '), ('062', 'Poliwrath', 'Water Fighting'), ('063', 'Abra', 'Psychic '), ('064', 'Kadabra', 'Psychic '), ('065', 'Alakazam', 'Psychic '), ('066', 'Machop', 'Fighting '), ('067', 'Machoke', 'Fighting '), ('068', 'Machamp', 'Fighting '), ('069', 'Bellsprout', 'Grass Poison'), ('070', 'Weepinbell', 'Grass Poison'), ('071', 'Victreebel', 'Grass Poison'), ('072', 'Tentacool', 'Water Poison'), ('073', 'Tentacruel', 'Water Poison'), ('074', 'Geodude', 'Rock Ground'), ('075', 'Graveler', 'Rock Ground'), ('076', 'Golem', 'Rock Ground'), ('077', 'Ponyta', 'Fire '), ('078', 'Rapidash', 'Fire '), ('079', 'Slowpoke', 'Water Psychic'), ('080', 'Slowbro', 'Water Psychic'), ('081', 'Magnemite', 'Electric Steel'), ('082', 'Magneton', 'Electric Steel'), ('083', \"Farfetch'd\", 'Normal Flying'), ('084', 'Doduo', 'Normal Flying'), ('085', 'Dodrio', 'Normal Flying'), ('086', 'Seel', 'Water '), ('087', 'Dewgong', 'Water Ice'), ('088', 'Grimer', 'Poison '), ('089', 'Muk', 'Poison '), ('090', 'Shellder', 'Water '), ('091', 'Cloyster', 'Water Ice'), ('092', 'Gastly', 'Ghost Poison'), ('093', 'Haunter', 'Ghost Poison'), ('094', 'Gengar', 'Ghost Poison'), ('095', 'Onix', 'Rock Ground'), ('096', 'Drowzee', 'Psychic '), ('097', 'Hypno', 'Psychic '), ('098', 'Krabby', 'Water '), ('099', 'Kingler', 'Water '), ('100', 'Voltorb', 'Electric '), ('101', 'Electrode', 'Electric '), ('102', 'Exeggcute', 'Grass Psychic'), ('103', 'Exeggutor', 'Grass Psychic'), ('104', 'Cubone', 'Ground '), ('105', 'Marowak', 'Ground '), ('106', 'Hitmonlee', 'Fighting '), ('107', 'Hitmonchan', 'Fighting '), ('108', 'Lickitung', 'Normal '), ('109', 'Koffing', 'Poison '), ('110', 'Weezing', 'Poison '), ('111', 'Rhyhorn', 'Ground Rock'), ('112', 'Rhydon', 'Ground Rock'), ('113', 'Chansey', 'Normal '), ('114', 'Tangela', 'Grass '), ('115', 'Kangaskhan', 'Normal '), ('116', 'Horsea', 'Water '), ('117', 'Seadra', 'Water '), ('118', 'Goldeen', 'Water '), ('119', 'Seaking', 'Water '), ('120', 'Staryu', 'Water '), ('121', 'Starmie', 'Water Psychic'), ('122', 'Mr. Mime', 'Psychic Fairy'), ('123', 'Scyther', 'Bug Flying'), ('124', 'Jynx', 'Ice Psychic'), ('125', 'Electabuzz', 'Electric '), ('126', 'Magmar', 'Fire '), ('127', 'Pinsir', 'Bug '), ('128', 'Tauros', 'Normal '), ('129', 'Magikarp', 'Water '), ('130', 'Gyarados', 'Water Flying'), ('131', 'Lapras', 'Water Ice'), ('132', 'Ditto', 'Normal '), ('133', 'Eevee', 'Normal '), ('134', 'Vaporeon', 'Water '), ('135', 'Jolteon', 'Electric '), ('136', 'Flareon', 'Fire '), ('137', 'Porygon', 'Normal '), ('138', 'Omanyte', 'Rock Water'), ('139', 'Omastar', 'Rock Water'), ('140', 'Kabuto', 'Rock Water'), ('141', 'Kabutops', 'Rock Water'), ('142', 'Aerodactyl', 'Rock Flying'), ('143', 'Snorlax', 'Normal '), ('144', 'Articuno', 'Ice Flying'), ('145', 'Zapdos', 'Electric Flying'), ('146', 'Moltres', 'Fire Flying'), ('147', 'Dratini', 'Dragon '), ('148', 'Dragonair', 'Dragon '), ('149', 'Dragonite', 'Dragon Flying'), ('150', 'Mewtwo', 'Psychic '), ('151', 'Mew', 'Psychic ')]\n",
      "[('Pokedex Number', 'Name', 'Type'), ('Pokedex Number', 'Name', 'Type'), ('Pokedex Number', 'Name', 'Type'), ('Pokedex Number', 'Name', 'Type'), ('Pokedex Number', 'Name', 'Type'), ('Pokedex Number', 'Name', 'Type'), ('Pokedex Number', 'Name', 'Type'), ('Pokedex Number', 'Name', 'Type'), ('Pokedex Number', 'Name', 'Type'), ('Pokedex Number', 'Name', 'Type'), ('Pokedex Number', 'Name', 'Type'), ('Pokedex Number', 'Name', 'Type'), ('Pokedex Number', 'Name', 'Type'), ('Pokedex Number', 'Name', 'Type'), ('Pokedex Number', 'Name', 'Type'), ('Pokedex Number', 'Name', 'Type'), ('Pokedex Number', 'Name', 'Type'), ('Pokedex Number', 'Name', 'Type'), ('Pokedex Number', 'Name', 'Type'), ('Pokedex Number', 'Name', 'Type'), ('Pokedex Number', 'Name', 'Type'), ('Pokedex Number', 'Name', 'Type'), ('Pokedex Number', 'Name', 'Type'), ('Pokedex Number', 'Name', 'Type'), ('Pokedex Number', 'Name', 'Type'), ('Pokedex Number', 'Name', 'Type'), ('Pokedex Number', 'Name', 'Type'), ('Pokedex Number', 'Name', 'Type'), ('Pokedex Number', 'Name', 'Type'), ('Pokedex Number', 'Name', 'Type'), ('Pokedex Number', 'Name', 'Type'), ('Pokedex Number', 'Name', 'Type'), ('Pokedex Number', 'Name', 'Type'), ('Pokedex Number', 'Name', 'Type'), ('Pokedex Number', 'Name', 'Type'), ('Pokedex Number', 'Name', 'Type'), ('Pokedex Number', 'Name', 'Type'), ('Pokedex Number', 'Name', 'Type'), ('Pokedex Number', 'Name', 'Type'), ('Pokedex Number', 'Name', 'Type'), ('Pokedex Number', 'Name', 'Type'), ('Pokedex Number', 'Name', 'Type'), ('Pokedex Number', 'Name', 'Type'), ('Pokedex Number', 'Name', 'Type'), ('Pokedex Number', 'Name', 'Type'), ('Pokedex Number', 'Name', 'Type'), ('Pokedex Number', 'Name', 'Type'), ('Pokedex Number', 'Name', 'Type'), ('Pokedex Number', 'Name', 'Type'), ('Pokedex Number', 'Name', 'Type'), ('Pokedex Number', 'Name', 'Type'), ('Pokedex Number', 'Name', 'Type'), ('Pokedex Number', 'Name', 'Type'), ('Pokedex Number', 'Name', 'Type'), ('Pokedex Number', 'Name', 'Type'), ('Pokedex Number', 'Name', 'Type'), ('Pokedex Number', 'Name', 'Type'), ('Pokedex Number', 'Name', 'Type'), ('Pokedex Number', 'Name', 'Type'), ('Pokedex Number', 'Name', 'Type'), ('Pokedex Number', 'Name', 'Type'), ('Pokedex Number', 'Name', 'Type'), ('Pokedex Number', 'Name', 'Type'), ('Pokedex Number', 'Name', 'Type'), ('Pokedex Number', 'Name', 'Type'), ('Pokedex Number', 'Name', 'Type'), ('Pokedex Number', 'Name', 'Type'), ('Pokedex Number', 'Name', 'Type'), ('Pokedex Number', 'Name', 'Type'), ('Pokedex Number', 'Name', 'Type'), ('Pokedex Number', 'Name', 'Type'), ('Pokedex Number', 'Name', 'Type'), ('Pokedex Number', 'Name', 'Type'), ('Pokedex Number', 'Name', 'Type'), ('Pokedex Number', 'Name', 'Type'), ('Pokedex Number', 'Name', 'Type'), ('Pokedex Number', 'Name', 'Type'), ('Pokedex Number', 'Name', 'Type'), ('Pokedex Number', 'Name', 'Type'), ('Pokedex Number', 'Name', 'Type'), ('Pokedex Number', 'Name', 'Type'), ('Pokedex Number', 'Name', 'Type'), ('Pokedex Number', 'Name', 'Type'), ('Pokedex Number', 'Name', 'Type'), ('Pokedex Number', 'Name', 'Type'), ('Pokedex Number', 'Name', 'Type'), ('Pokedex Number', 'Name', 'Type'), ('Pokedex Number', 'Name', 'Type'), ('Pokedex Number', 'Name', 'Type'), ('Pokedex Number', 'Name', 'Type'), ('Pokedex Number', 'Name', 'Type'), ('Pokedex Number', 'Name', 'Type'), ('Pokedex Number', 'Name', 'Type'), ('Pokedex Number', 'Name', 'Type'), ('Pokedex Number', 'Name', 'Type'), ('Pokedex Number', 'Name', 'Type'), ('Pokedex Number', 'Name', 'Type'), ('Pokedex Number', 'Name', 'Type'), ('Pokedex Number', 'Name', 'Type'), ('Pokedex Number', 'Name', 'Type'), ('Pokedex Number', 'Name', 'Type'), ('Pokedex Number', 'Name', 'Type'), ('Pokedex Number', 'Name', 'Type'), ('Pokedex Number', 'Name', 'Type'), ('Pokedex Number', 'Name', 'Type'), ('Pokedex Number', 'Name', 'Type'), ('Pokedex Number', 'Name', 'Type'), ('Pokedex Number', 'Name', 'Type'), ('Pokedex Number', 'Name', 'Type'), ('Pokedex Number', 'Name', 'Type'), ('Pokedex Number', 'Name', 'Type'), ('Pokedex Number', 'Name', 'Type'), ('Pokedex Number', 'Name', 'Type'), ('Pokedex Number', 'Name', 'Type'), ('Pokedex Number', 'Name', 'Type'), ('Pokedex Number', 'Name', 'Type'), ('Pokedex Number', 'Name', 'Type'), ('Pokedex Number', 'Name', 'Type'), ('Pokedex Number', 'Name', 'Type'), ('Pokedex Number', 'Name', 'Type'), ('Pokedex Number', 'Name', 'Type'), ('Pokedex Number', 'Name', 'Type'), ('Pokedex Number', 'Name', 'Type'), ('Pokedex Number', 'Name', 'Type'), ('Pokedex Number', 'Name', 'Type'), ('Pokedex Number', 'Name', 'Type'), ('Pokedex Number', 'Name', 'Type'), ('Pokedex Number', 'Name', 'Type'), ('Pokedex Number', 'Name', 'Type'), ('Pokedex Number', 'Name', 'Type'), ('Pokedex Number', 'Name', 'Type'), ('Pokedex Number', 'Name', 'Type'), ('Pokedex Number', 'Name', 'Type'), ('Pokedex Number', 'Name', 'Type'), ('Pokedex Number', 'Name', 'Type'), ('Pokedex Number', 'Name', 'Type'), ('Pokedex Number', 'Name', 'Type'), ('Pokedex Number', 'Name', 'Type'), ('Pokedex Number', 'Name', 'Type'), ('Pokedex Number', 'Name', 'Type'), ('Pokedex Number', 'Name', 'Type'), ('Pokedex Number', 'Name', 'Type'), ('Pokedex Number', 'Name', 'Type'), ('Pokedex Number', 'Name', 'Type'), ('Pokedex Number', 'Name', 'Type'), ('Pokedex Number', 'Name', 'Type'), ('Pokedex Number', 'Name', 'Type'), ('Pokedex Number', 'Name', 'Type'), ('Pokedex Number', 'Name', 'Type'), ('Pokedex Number', 'Name', 'Type'), ('Pokedex Number', 'Name', 'Type')]\n",
      "{('001', 'Bulbasaur', 'Grass Poison'): ('Pokedex Number', 'Name', 'Type'), ('002', 'Ivysaur', 'Grass Poison'): ('Pokedex Number', 'Name', 'Type'), ('003', 'Venusaur', 'Grass Poison'): ('Pokedex Number', 'Name', 'Type'), ('004', 'Charmander', 'Fire '): ('Pokedex Number', 'Name', 'Type'), ('005', 'Charmeleon', 'Fire '): ('Pokedex Number', 'Name', 'Type'), ('006', 'Charizard', 'Fire Flying'): ('Pokedex Number', 'Name', 'Type'), ('007', 'Squirtle', 'Water '): ('Pokedex Number', 'Name', 'Type'), ('008', 'Wartortle', 'Water '): ('Pokedex Number', 'Name', 'Type'), ('009', 'Blastoise', 'Water '): ('Pokedex Number', 'Name', 'Type'), ('010', 'Caterpie', 'Bug '): ('Pokedex Number', 'Name', 'Type'), ('011', 'Metapod', 'Bug '): ('Pokedex Number', 'Name', 'Type'), ('012', 'Butterfree', 'Bug Flying'): ('Pokedex Number', 'Name', 'Type'), ('013', 'Weedle', 'Bug Poison'): ('Pokedex Number', 'Name', 'Type'), ('014', 'Kakuna', 'Bug Poison'): ('Pokedex Number', 'Name', 'Type'), ('015', 'Beedrill', 'Bug Poison'): ('Pokedex Number', 'Name', 'Type'), ('016', 'Pidgey', 'Normal Flying'): ('Pokedex Number', 'Name', 'Type'), ('017', 'Pidgeotto', 'Normal Flying'): ('Pokedex Number', 'Name', 'Type'), ('018', 'Pidgeot', 'Normal Flying'): ('Pokedex Number', 'Name', 'Type'), ('019', 'Rattata', 'Normal '): ('Pokedex Number', 'Name', 'Type'), ('020', 'Raticate', 'Normal '): ('Pokedex Number', 'Name', 'Type'), ('021', 'Spearow', 'Normal Flying'): ('Pokedex Number', 'Name', 'Type'), ('022', 'Fearow', 'Normal Flying'): ('Pokedex Number', 'Name', 'Type'), ('023', 'Ekans', 'Poison '): ('Pokedex Number', 'Name', 'Type'), ('024', 'Arbok', 'Poison '): ('Pokedex Number', 'Name', 'Type'), ('025', 'Pikachu', 'Electric '): ('Pokedex Number', 'Name', 'Type'), ('026', 'Raichu', 'Electric '): ('Pokedex Number', 'Name', 'Type'), ('027', 'Sandshrew', 'Ground '): ('Pokedex Number', 'Name', 'Type'), ('028', 'Sandslash', 'Ground '): ('Pokedex Number', 'Name', 'Type'), ('029', 'Nidoranâ™€', 'Poison '): ('Pokedex Number', 'Name', 'Type'), ('030', 'Nidorina', 'Poison '): ('Pokedex Number', 'Name', 'Type'), ('031', 'Nidoqueen', 'Poison Ground'): ('Pokedex Number', 'Name', 'Type'), ('032', 'Nidoranâ™‚', 'Poison '): ('Pokedex Number', 'Name', 'Type'), ('033', 'Nidorino', 'Poison '): ('Pokedex Number', 'Name', 'Type'), ('034', 'Nidoking', 'Poison Ground'): ('Pokedex Number', 'Name', 'Type'), ('035', 'Clefairy', 'Fairy '): ('Pokedex Number', 'Name', 'Type'), ('036', 'Clefable', 'Fairy '): ('Pokedex Number', 'Name', 'Type'), ('037', 'Vulpix', 'Fire '): ('Pokedex Number', 'Name', 'Type'), ('038', 'Ninetales', 'Fire '): ('Pokedex Number', 'Name', 'Type'), ('039', 'Jigglypuff', 'Normal Fairy'): ('Pokedex Number', 'Name', 'Type'), ('040', 'Wigglytuff', 'Normal Fairy'): ('Pokedex Number', 'Name', 'Type'), ('041', 'Zubat', 'Poison Flying'): ('Pokedex Number', 'Name', 'Type'), ('042', 'Golbat', 'Poison Flying'): ('Pokedex Number', 'Name', 'Type'), ('043', 'Oddish', 'Grass Poison'): ('Pokedex Number', 'Name', 'Type'), ('044', 'Gloom', 'Grass Poison'): ('Pokedex Number', 'Name', 'Type'), ('045', 'Vileplume', 'Grass Poison'): ('Pokedex Number', 'Name', 'Type'), ('046', 'Paras', 'Bug Grass'): ('Pokedex Number', 'Name', 'Type'), ('047', 'Parasect', 'Bug Grass'): ('Pokedex Number', 'Name', 'Type'), ('048', 'Venonat', 'Bug Poison'): ('Pokedex Number', 'Name', 'Type'), ('049', 'Venomoth', 'Bug Poison'): ('Pokedex Number', 'Name', 'Type'), ('050', 'Diglett', 'Ground '): ('Pokedex Number', 'Name', 'Type'), ('051', 'Dugtrio', 'Ground '): ('Pokedex Number', 'Name', 'Type'), ('052', 'Meowth', 'Normal '): ('Pokedex Number', 'Name', 'Type'), ('053', 'Persian', 'Normal '): ('Pokedex Number', 'Name', 'Type'), ('054', 'Psyduck', 'Water '): ('Pokedex Number', 'Name', 'Type'), ('055', 'Golduck', 'Water '): ('Pokedex Number', 'Name', 'Type'), ('056', 'Mankey', 'Fighting '): ('Pokedex Number', 'Name', 'Type'), ('057', 'Primeape', 'Fighting '): ('Pokedex Number', 'Name', 'Type'), ('058', 'Growlithe', 'Fire '): ('Pokedex Number', 'Name', 'Type'), ('059', 'Arcanine', 'Fire '): ('Pokedex Number', 'Name', 'Type'), ('060', 'Poliwag', 'Water '): ('Pokedex Number', 'Name', 'Type'), ('061', 'Poliwhirl', 'Water '): ('Pokedex Number', 'Name', 'Type'), ('062', 'Poliwrath', 'Water Fighting'): ('Pokedex Number', 'Name', 'Type'), ('063', 'Abra', 'Psychic '): ('Pokedex Number', 'Name', 'Type'), ('064', 'Kadabra', 'Psychic '): ('Pokedex Number', 'Name', 'Type'), ('065', 'Alakazam', 'Psychic '): ('Pokedex Number', 'Name', 'Type'), ('066', 'Machop', 'Fighting '): ('Pokedex Number', 'Name', 'Type'), ('067', 'Machoke', 'Fighting '): ('Pokedex Number', 'Name', 'Type'), ('068', 'Machamp', 'Fighting '): ('Pokedex Number', 'Name', 'Type'), ('069', 'Bellsprout', 'Grass Poison'): ('Pokedex Number', 'Name', 'Type'), ('070', 'Weepinbell', 'Grass Poison'): ('Pokedex Number', 'Name', 'Type'), ('071', 'Victreebel', 'Grass Poison'): ('Pokedex Number', 'Name', 'Type'), ('072', 'Tentacool', 'Water Poison'): ('Pokedex Number', 'Name', 'Type'), ('073', 'Tentacruel', 'Water Poison'): ('Pokedex Number', 'Name', 'Type'), ('074', 'Geodude', 'Rock Ground'): ('Pokedex Number', 'Name', 'Type'), ('075', 'Graveler', 'Rock Ground'): ('Pokedex Number', 'Name', 'Type'), ('076', 'Golem', 'Rock Ground'): ('Pokedex Number', 'Name', 'Type'), ('077', 'Ponyta', 'Fire '): ('Pokedex Number', 'Name', 'Type'), ('078', 'Rapidash', 'Fire '): ('Pokedex Number', 'Name', 'Type'), ('079', 'Slowpoke', 'Water Psychic'): ('Pokedex Number', 'Name', 'Type'), ('080', 'Slowbro', 'Water Psychic'): ('Pokedex Number', 'Name', 'Type'), ('081', 'Magnemite', 'Electric Steel'): ('Pokedex Number', 'Name', 'Type'), ('082', 'Magneton', 'Electric Steel'): ('Pokedex Number', 'Name', 'Type'), ('083', \"Farfetch'd\", 'Normal Flying'): ('Pokedex Number', 'Name', 'Type'), ('084', 'Doduo', 'Normal Flying'): ('Pokedex Number', 'Name', 'Type'), ('085', 'Dodrio', 'Normal Flying'): ('Pokedex Number', 'Name', 'Type'), ('086', 'Seel', 'Water '): ('Pokedex Number', 'Name', 'Type'), ('087', 'Dewgong', 'Water Ice'): ('Pokedex Number', 'Name', 'Type'), ('088', 'Grimer', 'Poison '): ('Pokedex Number', 'Name', 'Type'), ('089', 'Muk', 'Poison '): ('Pokedex Number', 'Name', 'Type'), ('090', 'Shellder', 'Water '): ('Pokedex Number', 'Name', 'Type'), ('091', 'Cloyster', 'Water Ice'): ('Pokedex Number', 'Name', 'Type'), ('092', 'Gastly', 'Ghost Poison'): ('Pokedex Number', 'Name', 'Type'), ('093', 'Haunter', 'Ghost Poison'): ('Pokedex Number', 'Name', 'Type'), ('094', 'Gengar', 'Ghost Poison'): ('Pokedex Number', 'Name', 'Type'), ('095', 'Onix', 'Rock Ground'): ('Pokedex Number', 'Name', 'Type'), ('096', 'Drowzee', 'Psychic '): ('Pokedex Number', 'Name', 'Type'), ('097', 'Hypno', 'Psychic '): ('Pokedex Number', 'Name', 'Type'), ('098', 'Krabby', 'Water '): ('Pokedex Number', 'Name', 'Type'), ('099', 'Kingler', 'Water '): ('Pokedex Number', 'Name', 'Type'), ('100', 'Voltorb', 'Electric '): ('Pokedex Number', 'Name', 'Type'), ('101', 'Electrode', 'Electric '): ('Pokedex Number', 'Name', 'Type'), ('102', 'Exeggcute', 'Grass Psychic'): ('Pokedex Number', 'Name', 'Type'), ('103', 'Exeggutor', 'Grass Psychic'): ('Pokedex Number', 'Name', 'Type'), ('104', 'Cubone', 'Ground '): ('Pokedex Number', 'Name', 'Type'), ('105', 'Marowak', 'Ground '): ('Pokedex Number', 'Name', 'Type'), ('106', 'Hitmonlee', 'Fighting '): ('Pokedex Number', 'Name', 'Type'), ('107', 'Hitmonchan', 'Fighting '): ('Pokedex Number', 'Name', 'Type'), ('108', 'Lickitung', 'Normal '): ('Pokedex Number', 'Name', 'Type'), ('109', 'Koffing', 'Poison '): ('Pokedex Number', 'Name', 'Type'), ('110', 'Weezing', 'Poison '): ('Pokedex Number', 'Name', 'Type'), ('111', 'Rhyhorn', 'Ground Rock'): ('Pokedex Number', 'Name', 'Type'), ('112', 'Rhydon', 'Ground Rock'): ('Pokedex Number', 'Name', 'Type'), ('113', 'Chansey', 'Normal '): ('Pokedex Number', 'Name', 'Type'), ('114', 'Tangela', 'Grass '): ('Pokedex Number', 'Name', 'Type'), ('115', 'Kangaskhan', 'Normal '): ('Pokedex Number', 'Name', 'Type'), ('116', 'Horsea', 'Water '): ('Pokedex Number', 'Name', 'Type'), ('117', 'Seadra', 'Water '): ('Pokedex Number', 'Name', 'Type'), ('118', 'Goldeen', 'Water '): ('Pokedex Number', 'Name', 'Type'), ('119', 'Seaking', 'Water '): ('Pokedex Number', 'Name', 'Type'), ('120', 'Staryu', 'Water '): ('Pokedex Number', 'Name', 'Type'), ('121', 'Starmie', 'Water Psychic'): ('Pokedex Number', 'Name', 'Type'), ('122', 'Mr. Mime', 'Psychic Fairy'): ('Pokedex Number', 'Name', 'Type'), ('123', 'Scyther', 'Bug Flying'): ('Pokedex Number', 'Name', 'Type'), ('124', 'Jynx', 'Ice Psychic'): ('Pokedex Number', 'Name', 'Type'), ('125', 'Electabuzz', 'Electric '): ('Pokedex Number', 'Name', 'Type'), ('126', 'Magmar', 'Fire '): ('Pokedex Number', 'Name', 'Type'), ('127', 'Pinsir', 'Bug '): ('Pokedex Number', 'Name', 'Type'), ('128', 'Tauros', 'Normal '): ('Pokedex Number', 'Name', 'Type'), ('129', 'Magikarp', 'Water '): ('Pokedex Number', 'Name', 'Type'), ('130', 'Gyarados', 'Water Flying'): ('Pokedex Number', 'Name', 'Type'), ('131', 'Lapras', 'Water Ice'): ('Pokedex Number', 'Name', 'Type'), ('132', 'Ditto', 'Normal '): ('Pokedex Number', 'Name', 'Type'), ('133', 'Eevee', 'Normal '): ('Pokedex Number', 'Name', 'Type'), ('134', 'Vaporeon', 'Water '): ('Pokedex Number', 'Name', 'Type'), ('135', 'Jolteon', 'Electric '): ('Pokedex Number', 'Name', 'Type'), ('136', 'Flareon', 'Fire '): ('Pokedex Number', 'Name', 'Type'), ('137', 'Porygon', 'Normal '): ('Pokedex Number', 'Name', 'Type'), ('138', 'Omanyte', 'Rock Water'): ('Pokedex Number', 'Name', 'Type'), ('139', 'Omastar', 'Rock Water'): ('Pokedex Number', 'Name', 'Type'), ('140', 'Kabuto', 'Rock Water'): ('Pokedex Number', 'Name', 'Type'), ('141', 'Kabutops', 'Rock Water'): ('Pokedex Number', 'Name', 'Type'), ('142', 'Aerodactyl', 'Rock Flying'): ('Pokedex Number', 'Name', 'Type'), ('143', 'Snorlax', 'Normal '): ('Pokedex Number', 'Name', 'Type'), ('144', 'Articuno', 'Ice Flying'): ('Pokedex Number', 'Name', 'Type'), ('145', 'Zapdos', 'Electric Flying'): ('Pokedex Number', 'Name', 'Type'), ('146', 'Moltres', 'Fire Flying'): ('Pokedex Number', 'Name', 'Type'), ('147', 'Dratini', 'Dragon '): ('Pokedex Number', 'Name', 'Type'), ('148', 'Dragonair', 'Dragon '): ('Pokedex Number', 'Name', 'Type'), ('149', 'Dragonite', 'Dragon Flying'): ('Pokedex Number', 'Name', 'Type'), ('150', 'Mewtwo', 'Psychic '): ('Pokedex Number', 'Name', 'Type'), ('151', 'Mew', 'Psychic '): ('Pokedex Number', 'Name', 'Type')}\n"
     ]
    }
   ],
   "source": [
    "headers = ['dex_number', 'pokemon_name', 'pokemon_type']\n",
    "\n",
    "from itertools import islice\n",
    "\n",
    "with open('pkmn_gen1.csv', 'r') as csv_file:\n",
    "    csv_reader = csv.DictReader(csv_file)\n",
    "    csv_data = []\n",
    "    for row in csv_reader:\n",
    "        csv_data.append(row)\n",
    "\n",
    "\n",
    "with open('data.csv', 'w') as csv_file:\n",
    "    csv_writer = csv.DictWriter(csv_file, fieldnames=headers)\n",
    "    csv_writer.writeheader()\n",
    "    \n",
    "    from itertools import islice\n",
    "    \n",
    "    \n",
    "    # for row in csv_data:\n",
    "    #     csv_writer.writerow(row)\n",
    "\n",
    "\n",
    "\n",
    "        "
   ]
  }
 ],
 "metadata": {
  "kernelspec": {
   "display_name": "Python 3",
   "language": "python",
   "name": "python3"
  },
  "language_info": {
   "codemirror_mode": {
    "name": "ipython",
    "version": 3
   },
   "file_extension": ".py",
   "mimetype": "text/x-python",
   "name": "python",
   "nbconvert_exporter": "python",
   "pygments_lexer": "ipython3",
   "version": "3.11.1"
  },
  "orig_nbformat": 4
 },
 "nbformat": 4,
 "nbformat_minor": 2
}
