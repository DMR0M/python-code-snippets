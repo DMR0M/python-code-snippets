{
 "cells": [
  {
   "cell_type": "markdown",
   "metadata": {},
   "source": [
    "### PyYAML"
   ]
  },
  {
   "cell_type": "code",
   "execution_count": 53,
   "metadata": {},
   "outputs": [],
   "source": [
    "import yaml"
   ]
  },
  {
   "cell_type": "code",
   "execution_count": 54,
   "metadata": {},
   "outputs": [],
   "source": [
    "class Person:\n",
    "    def __init__(self, name, age):\n",
    "        self.name = name\n",
    "        self.age = age\n",
    "        \n",
    "    def __repr__(self):\n",
    "        return f'Person(name={self.name}, age={self.age})'\n",
    "    "
   ]
  },
  {
   "cell_type": "code",
   "execution_count": 69,
   "metadata": {},
   "outputs": [],
   "source": [
    "from datetime import date\n",
    "\n",
    "p1 = Person('John Cleese', date(1939, 10, 27))\n",
    "p2 = Person('Michael Palin', date(1934, 5, 5))\n"
   ]
  },
  {
   "cell_type": "code",
   "execution_count": 70,
   "metadata": {},
   "outputs": [
    {
     "name": "stdout",
     "output_type": "stream",
     "text": [
      "john: !!python/object:__main__.Person\n",
      "  age: 1939-10-27\n",
      "  name: John Cleese\n",
      "michael: !!python/object:__main__.Person\n",
      "  age: 1934-05-05\n",
      "  name: Michael Palin\n",
      "\n"
     ]
    }
   ],
   "source": [
    "print(yaml.dump({'john': p1, 'michael': p2}))"
   ]
  },
  {
   "cell_type": "code",
   "execution_count": 71,
   "metadata": {},
   "outputs": [],
   "source": [
    "yaml_data = '''\n",
    "exec_paths:\n",
    "    !!python/object/apply:os.get_exec_path []\n",
    "exec_command:\n",
    "    !!python/object/apply:subprocess.check_output [['ls', '/']]\n",
    "'''\n"
   ]
  },
  {
   "cell_type": "code",
   "execution_count": 74,
   "metadata": {},
   "outputs": [
    {
     "ename": "ConstructorError",
     "evalue": "could not determine a constructor for the tag 'tag:yaml.org,2002:python/object/apply:os.get_exec_path'\n  in \"<unicode string>\", line 3, column 5:\n        !!python/object/apply:os.get_exe ... \n        ^",
     "output_type": "error",
     "traceback": [
      "\u001b[1;31m---------------------------------------------------------------------------\u001b[0m",
      "\u001b[1;31mConstructorError\u001b[0m                          Traceback (most recent call last)",
      "Cell \u001b[1;32mIn[74], line 1\u001b[0m\n\u001b[1;32m----> 1\u001b[0m yaml\u001b[39m.\u001b[39;49mload(yaml_data, Loader\u001b[39m=\u001b[39;49myaml\u001b[39m.\u001b[39;49mFullLoader)\n",
      "File \u001b[1;32mc:\\Users\\Rommel\\AppData\\Local\\Programs\\Python\\Python311\\Lib\\site-packages\\yaml\\__init__.py:81\u001b[0m, in \u001b[0;36mload\u001b[1;34m(stream, Loader)\u001b[0m\n\u001b[0;32m     79\u001b[0m loader \u001b[39m=\u001b[39m Loader(stream)\n\u001b[0;32m     80\u001b[0m \u001b[39mtry\u001b[39;00m:\n\u001b[1;32m---> 81\u001b[0m     \u001b[39mreturn\u001b[39;00m loader\u001b[39m.\u001b[39;49mget_single_data()\n\u001b[0;32m     82\u001b[0m \u001b[39mfinally\u001b[39;00m:\n\u001b[0;32m     83\u001b[0m     loader\u001b[39m.\u001b[39mdispose()\n",
      "File \u001b[1;32mc:\\Users\\Rommel\\AppData\\Local\\Programs\\Python\\Python311\\Lib\\site-packages\\yaml\\constructor.py:51\u001b[0m, in \u001b[0;36mBaseConstructor.get_single_data\u001b[1;34m(self)\u001b[0m\n\u001b[0;32m     49\u001b[0m node \u001b[39m=\u001b[39m \u001b[39mself\u001b[39m\u001b[39m.\u001b[39mget_single_node()\n\u001b[0;32m     50\u001b[0m \u001b[39mif\u001b[39;00m node \u001b[39mis\u001b[39;00m \u001b[39mnot\u001b[39;00m \u001b[39mNone\u001b[39;00m:\n\u001b[1;32m---> 51\u001b[0m     \u001b[39mreturn\u001b[39;00m \u001b[39mself\u001b[39;49m\u001b[39m.\u001b[39;49mconstruct_document(node)\n\u001b[0;32m     52\u001b[0m \u001b[39mreturn\u001b[39;00m \u001b[39mNone\u001b[39;00m\n",
      "File \u001b[1;32mc:\\Users\\Rommel\\AppData\\Local\\Programs\\Python\\Python311\\Lib\\site-packages\\yaml\\constructor.py:60\u001b[0m, in \u001b[0;36mBaseConstructor.construct_document\u001b[1;34m(self, node)\u001b[0m\n\u001b[0;32m     58\u001b[0m     \u001b[39mself\u001b[39m\u001b[39m.\u001b[39mstate_generators \u001b[39m=\u001b[39m []\n\u001b[0;32m     59\u001b[0m     \u001b[39mfor\u001b[39;00m generator \u001b[39min\u001b[39;00m state_generators:\n\u001b[1;32m---> 60\u001b[0m         \u001b[39mfor\u001b[39;00m dummy \u001b[39min\u001b[39;00m generator:\n\u001b[0;32m     61\u001b[0m             \u001b[39mpass\u001b[39;00m\n\u001b[0;32m     62\u001b[0m \u001b[39mself\u001b[39m\u001b[39m.\u001b[39mconstructed_objects \u001b[39m=\u001b[39m {}\n",
      "File \u001b[1;32mc:\\Users\\Rommel\\AppData\\Local\\Programs\\Python\\Python311\\Lib\\site-packages\\yaml\\constructor.py:413\u001b[0m, in \u001b[0;36mSafeConstructor.construct_yaml_map\u001b[1;34m(self, node)\u001b[0m\n\u001b[0;32m    411\u001b[0m data \u001b[39m=\u001b[39m {}\n\u001b[0;32m    412\u001b[0m \u001b[39myield\u001b[39;00m data\n\u001b[1;32m--> 413\u001b[0m value \u001b[39m=\u001b[39m \u001b[39mself\u001b[39;49m\u001b[39m.\u001b[39;49mconstruct_mapping(node)\n\u001b[0;32m    414\u001b[0m data\u001b[39m.\u001b[39mupdate(value)\n",
      "File \u001b[1;32mc:\\Users\\Rommel\\AppData\\Local\\Programs\\Python\\Python311\\Lib\\site-packages\\yaml\\constructor.py:218\u001b[0m, in \u001b[0;36mSafeConstructor.construct_mapping\u001b[1;34m(self, node, deep)\u001b[0m\n\u001b[0;32m    216\u001b[0m \u001b[39mif\u001b[39;00m \u001b[39misinstance\u001b[39m(node, MappingNode):\n\u001b[0;32m    217\u001b[0m     \u001b[39mself\u001b[39m\u001b[39m.\u001b[39mflatten_mapping(node)\n\u001b[1;32m--> 218\u001b[0m \u001b[39mreturn\u001b[39;00m \u001b[39msuper\u001b[39;49m()\u001b[39m.\u001b[39;49mconstruct_mapping(node, deep\u001b[39m=\u001b[39;49mdeep)\n",
      "File \u001b[1;32mc:\\Users\\Rommel\\AppData\\Local\\Programs\\Python\\Python311\\Lib\\site-packages\\yaml\\constructor.py:143\u001b[0m, in \u001b[0;36mBaseConstructor.construct_mapping\u001b[1;34m(self, node, deep)\u001b[0m\n\u001b[0;32m    140\u001b[0m     \u001b[39mif\u001b[39;00m \u001b[39mnot\u001b[39;00m \u001b[39misinstance\u001b[39m(key, collections\u001b[39m.\u001b[39mabc\u001b[39m.\u001b[39mHashable):\n\u001b[0;32m    141\u001b[0m         \u001b[39mraise\u001b[39;00m ConstructorError(\u001b[39m\"\u001b[39m\u001b[39mwhile constructing a mapping\u001b[39m\u001b[39m\"\u001b[39m, node\u001b[39m.\u001b[39mstart_mark,\n\u001b[0;32m    142\u001b[0m                 \u001b[39m\"\u001b[39m\u001b[39mfound unhashable key\u001b[39m\u001b[39m\"\u001b[39m, key_node\u001b[39m.\u001b[39mstart_mark)\n\u001b[1;32m--> 143\u001b[0m     value \u001b[39m=\u001b[39m \u001b[39mself\u001b[39;49m\u001b[39m.\u001b[39;49mconstruct_object(value_node, deep\u001b[39m=\u001b[39;49mdeep)\n\u001b[0;32m    144\u001b[0m     mapping[key] \u001b[39m=\u001b[39m value\n\u001b[0;32m    145\u001b[0m \u001b[39mreturn\u001b[39;00m mapping\n",
      "File \u001b[1;32mc:\\Users\\Rommel\\AppData\\Local\\Programs\\Python\\Python311\\Lib\\site-packages\\yaml\\constructor.py:100\u001b[0m, in \u001b[0;36mBaseConstructor.construct_object\u001b[1;34m(self, node, deep)\u001b[0m\n\u001b[0;32m     98\u001b[0m             constructor \u001b[39m=\u001b[39m \u001b[39mself\u001b[39m\u001b[39m.\u001b[39m\u001b[39m__class__\u001b[39m\u001b[39m.\u001b[39mconstruct_mapping\n\u001b[0;32m     99\u001b[0m \u001b[39mif\u001b[39;00m tag_suffix \u001b[39mis\u001b[39;00m \u001b[39mNone\u001b[39;00m:\n\u001b[1;32m--> 100\u001b[0m     data \u001b[39m=\u001b[39m constructor(\u001b[39mself\u001b[39;49m, node)\n\u001b[0;32m    101\u001b[0m \u001b[39melse\u001b[39;00m:\n\u001b[0;32m    102\u001b[0m     data \u001b[39m=\u001b[39m constructor(\u001b[39mself\u001b[39m, tag_suffix, node)\n",
      "File \u001b[1;32mc:\\Users\\Rommel\\AppData\\Local\\Programs\\Python\\Python311\\Lib\\site-packages\\yaml\\constructor.py:427\u001b[0m, in \u001b[0;36mSafeConstructor.construct_undefined\u001b[1;34m(self, node)\u001b[0m\n\u001b[0;32m    426\u001b[0m \u001b[39mdef\u001b[39;00m \u001b[39mconstruct_undefined\u001b[39m(\u001b[39mself\u001b[39m, node):\n\u001b[1;32m--> 427\u001b[0m     \u001b[39mraise\u001b[39;00m ConstructorError(\u001b[39mNone\u001b[39;00m, \u001b[39mNone\u001b[39;00m,\n\u001b[0;32m    428\u001b[0m             \u001b[39m\"\u001b[39m\u001b[39mcould not determine a constructor for the tag \u001b[39m\u001b[39m%r\u001b[39;00m\u001b[39m\"\u001b[39m \u001b[39m%\u001b[39m node\u001b[39m.\u001b[39mtag,\n\u001b[0;32m    429\u001b[0m             node\u001b[39m.\u001b[39mstart_mark)\n",
      "\u001b[1;31mConstructorError\u001b[0m: could not determine a constructor for the tag 'tag:yaml.org,2002:python/object/apply:os.get_exec_path'\n  in \"<unicode string>\", line 3, column 5:\n        !!python/object/apply:os.get_exe ... \n        ^"
     ]
    }
   ],
   "source": [
    "yaml.load(yaml_data, Loader=yaml.FullLoader)"
   ]
  },
  {
   "cell_type": "code",
   "execution_count": null,
   "metadata": {},
   "outputs": [],
   "source": []
  }
 ],
 "metadata": {
  "kernelspec": {
   "display_name": "Python 3",
   "language": "python",
   "name": "python3"
  },
  "language_info": {
   "codemirror_mode": {
    "name": "ipython",
    "version": 3
   },
   "file_extension": ".py",
   "mimetype": "text/x-python",
   "name": "python",
   "nbconvert_exporter": "python",
   "pygments_lexer": "ipython3",
   "version": "3.11.1"
  },
  "orig_nbformat": 4
 },
 "nbformat": 4,
 "nbformat_minor": 2
}
